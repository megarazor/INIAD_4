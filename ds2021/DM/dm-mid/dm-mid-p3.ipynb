{
 "cells": [
  {
   "cell_type": "code",
   "execution_count": 11,
   "id": "modified-decision",
   "metadata": {},
   "outputs": [],
   "source": [
    "import numpy as np"
   ]
  },
  {
   "cell_type": "code",
   "execution_count": 12,
   "id": "opening-turner",
   "metadata": {},
   "outputs": [
    {
     "name": "stdout",
     "output_type": "stream",
     "text": [
      "0.2\n"
     ]
    }
   ],
   "source": [
    "P_spam= 200 / (200 + 800)\n",
    "print(P_spam)"
   ]
  },
  {
   "cell_type": "code",
   "execution_count": 13,
   "id": "individual-barbados",
   "metadata": {},
   "outputs": [
    {
     "name": "stdout",
     "output_type": "stream",
     "text": [
      "0.06\n"
     ]
    }
   ],
   "source": [
    "P_money_meeting_if_spam= 0.1 * 0.6 \n",
    "print(P_money_meeting_if_spam)"
   ]
  },
  {
   "cell_type": "code",
   "execution_count": 15,
   "id": "periodic-outside",
   "metadata": {},
   "outputs": [
    {
     "name": "stdout",
     "output_type": "stream",
     "text": [
      "0.11760000000000002\n"
     ]
    }
   ],
   "source": [
    "P_money= 0.6 * 0.2 + 0.2 * (1 - 0.2) # P_money_if_spam * P_spam + P_money_if_ham * P_ham\n",
    "P_meeting= 0.1 * 0.2 + 0.5 * (1 - 0.2) # P_meeting_if_spam * P_spam + P_meeting_if_ham * P_ham\n",
    "P_money_meeting= P_money * P_meeting\n",
    "print(P_money_meeting)"
   ]
  },
  {
   "cell_type": "code",
   "execution_count": null,
   "id": "immune-termination",
   "metadata": {},
   "outputs": [],
   "source": []
  }
 ],
 "metadata": {
  "kernelspec": {
   "display_name": "Python 3",
   "language": "python",
   "name": "python3"
  },
  "language_info": {
   "codemirror_mode": {
    "name": "ipython",
    "version": 3
   },
   "file_extension": ".py",
   "mimetype": "text/x-python",
   "name": "python",
   "nbconvert_exporter": "python",
   "pygments_lexer": "ipython3",
   "version": "3.8.8"
  }
 },
 "nbformat": 4,
 "nbformat_minor": 5
}
