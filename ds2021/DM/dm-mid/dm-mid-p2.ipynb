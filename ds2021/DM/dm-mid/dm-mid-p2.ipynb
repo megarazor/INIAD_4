{
 "cells": [
  {
   "cell_type": "code",
   "execution_count": 6,
   "id": "recreational-bottle",
   "metadata": {},
   "outputs": [],
   "source": [
    "import numpy as np\n",
    "import scipy.stats as ss"
   ]
  },
  {
   "cell_type": "code",
   "execution_count": 7,
   "id": "subsequent-campaign",
   "metadata": {},
   "outputs": [],
   "source": [
    "A = np.array([18.2, 20.3, 21.2, 19.8, 21.0])\n",
    "\n",
    "B = np.array([21.3, 20.8, 18.8, 20.2, 20.9, 19.8, 21.2])"
   ]
  },
  {
   "cell_type": "code",
   "execution_count": 8,
   "id": "rubber-invalid",
   "metadata": {},
   "outputs": [
    {
     "name": "stdout",
     "output_type": "stream",
     "text": [
      "20.1 20.428571428571427\n",
      "-0.5178201765818219 0.6203861469312417\n"
     ]
    }
   ],
   "source": [
    "print(A.mean(), B.mean())\n",
    "t, p = ss.ttest_ind(A, B, equal_var=False)\n",
    "print(t, p)"
   ]
  }
 ],
 "metadata": {
  "kernelspec": {
   "display_name": "Python 3",
   "language": "python",
   "name": "python3"
  },
  "language_info": {
   "codemirror_mode": {
    "name": "ipython",
    "version": 3
   },
   "file_extension": ".py",
   "mimetype": "text/x-python",
   "name": "python",
   "nbconvert_exporter": "python",
   "pygments_lexer": "ipython3",
   "version": "3.8.8"
  }
 },
 "nbformat": 4,
 "nbformat_minor": 5
}
