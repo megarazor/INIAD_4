{
 "cells": [
  {
   "cell_type": "markdown",
   "metadata": {},
   "source": [
    "### Test of dual_annealing  "
   ]
  },
  {
   "cell_type": "markdown",
   "metadata": {},
   "source": [
    "#### Import libraries  "
   ]
  },
  {
   "cell_type": "code",
   "execution_count": 28,
   "metadata": {},
   "outputs": [],
   "source": [
    "import numpy as np\n",
    "import pandas as pd\n",
    "from random import uniform\n",
    "from scipy.optimize import dual_annealing\n",
    "import matplotlib.pyplot as plt"
   ]
  },
  {
   "cell_type": "markdown",
   "metadata": {},
   "source": [
    "#### Cost function  \n",
    "Known as Ackley function  "
   ]
  },
  {
   "cell_type": "code",
   "execution_count": 29,
   "metadata": {},
   "outputs": [],
   "source": [
    "def ackley2d(x):\n",
    "    total= 10\n",
    "    s1= (1.5 - x[0] + x[0] * x[1]) ** 2\n",
    "    total+= s1\n",
    "    s2= (2.25 - x[0] + x[0] * (x[1] ** 2)) ** 2\n",
    "    total+= s2\n",
    "    s3= (2.625 - x[0] + x[0] * (x[1] ** 3)) ** 2\n",
    "    total += s3\n",
    "#     total = 20.0\n",
    "#     s1 = (x[0]**2 + x[1]**2)/2\n",
    "#     total -= 20.0 * np.exp(-0.2 * s1**0.5)\n",
    "#     s2 = np.cos(2*np.pi*x[0]) + np.cos(2*np.pi*x[1])\n",
    "#     total -= np.exp(s2 / 2)\n",
    "    # or\n",
    "    # total = 20.0\n",
    "    # s1 = np.sum(x**2) / 2\n",
    "    # total -= 20.0 * np.exp(-0.2 * s1**0.5)\n",
    "    # s2 = np.sum(np.cos(2*np.pi*x))\n",
    "    # total -= np.exp(s2 / 2)\n",
    "    return total"
   ]
  },
  {
   "cell_type": "markdown",
   "metadata": {},
   "source": [
    "#### Set bounds (lower, upper) for each x[i]  "
   ]
  },
  {
   "cell_type": "code",
   "execution_count": 30,
   "metadata": {},
   "outputs": [],
   "source": [
    "bounds = [(-4.5, 4.5), (-4.5, 4.5)]"
   ]
  },
  {
   "cell_type": "markdown",
   "metadata": {},
   "source": [
    "#### Multiple trial and check obtained minima  "
   ]
  },
  {
   "cell_type": "code",
   "execution_count": 31,
   "metadata": {},
   "outputs": [],
   "source": [
    "n_trial = 3"
   ]
  },
  {
   "cell_type": "code",
   "execution_count": 32,
   "metadata": {},
   "outputs": [
    {
     "name": "stdout",
     "output_type": "stream",
     "text": [
      "[-2.90649152 -3.51999908]\n",
      "x: [3.00000011 0.50000008]\n",
      "f(x): 10.000000000000076\n",
      "\n",
      "[ 0.49873156 -2.23289332]\n",
      "x: [2.99999315 0.49999834]\n",
      "f(x): 10.000000000007544\n",
      "\n",
      "[-0.75075784 -4.37817691]\n",
      "x: [2.99999962 0.49999992]\n",
      "f(x): 10.000000000000023\n",
      "\n"
     ]
    }
   ],
   "source": [
    "x = np.zeros(2)\n",
    "for i in range(n_trial):\n",
    "    # Initial value\n",
    "    x[0] = uniform(-4.5, 4.5)\n",
    "    x[1] = uniform(-4.5, 4.5)\n",
    "    print(x)  # debug\n",
    "    \n",
    "    # Dual annealing optimization\n",
    "    ret = dual_annealing(ackley2d, bounds, x0=x, maxiter=500, seed=19)\n",
    "    print('x:', ret.x)\n",
    "    print('f(x):', ret.fun)\n",
    "    print()"
   ]
  },
  {
   "cell_type": "code",
   "execution_count": null,
   "metadata": {},
   "outputs": [],
   "source": []
  }
 ],
 "metadata": {
  "kernelspec": {
   "display_name": "Python 3",
   "language": "python",
   "name": "python3"
  },
  "language_info": {
   "codemirror_mode": {
    "name": "ipython",
    "version": 3
   },
   "file_extension": ".py",
   "mimetype": "text/x-python",
   "name": "python",
   "nbconvert_exporter": "python",
   "pygments_lexer": "ipython3",
   "version": "3.8.8"
  }
 },
 "nbformat": 4,
 "nbformat_minor": 4
}
