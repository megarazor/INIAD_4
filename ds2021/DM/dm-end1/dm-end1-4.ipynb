{
 "cells": [
  {
   "cell_type": "code",
   "execution_count": 43,
   "id": "nuclear-blade",
   "metadata": {},
   "outputs": [],
   "source": [
    "import pandas as pd\n",
    "import pyfpgrowth  # https://fp-growth.readthedocs.io/en/latest/"
   ]
  },
  {
   "cell_type": "code",
   "execution_count": 44,
   "id": "juvenile-ordinary",
   "metadata": {},
   "outputs": [],
   "source": [
    "csv_in = 'dm-end1-4.csv'"
   ]
  },
  {
   "cell_type": "code",
   "execution_count": 45,
   "id": "afraid-avenue",
   "metadata": {},
   "outputs": [
    {
     "name": "stdout",
     "output_type": "stream",
     "text": [
      "(1000, 2)\n",
      "<class 'pandas.core.frame.DataFrame'>\n",
      "RangeIndex: 1000 entries, 0 to 999\n",
      "Data columns (total 2 columns):\n",
      " #   Column   Non-Null Count  Dtype \n",
      "---  ------   --------------  ----- \n",
      " 0   Invoice  1000 non-null   object\n",
      " 1   Item     1000 non-null   int64 \n",
      "dtypes: int64(1), object(1)\n",
      "memory usage: 15.8+ KB\n",
      "None\n"
     ]
    },
    {
     "data": {
      "text/html": [
       "<div>\n",
       "<style scoped>\n",
       "    .dataframe tbody tr th:only-of-type {\n",
       "        vertical-align: middle;\n",
       "    }\n",
       "\n",
       "    .dataframe tbody tr th {\n",
       "        vertical-align: top;\n",
       "    }\n",
       "\n",
       "    .dataframe thead th {\n",
       "        text-align: right;\n",
       "    }\n",
       "</style>\n",
       "<table border=\"1\" class=\"dataframe\">\n",
       "  <thead>\n",
       "    <tr style=\"text-align: right;\">\n",
       "      <th></th>\n",
       "      <th>Invoice</th>\n",
       "      <th>Item</th>\n",
       "    </tr>\n",
       "  </thead>\n",
       "  <tbody>\n",
       "    <tr>\n",
       "      <th>0</th>\n",
       "      <td>T1008</td>\n",
       "      <td>112</td>\n",
       "    </tr>\n",
       "    <tr>\n",
       "      <th>1</th>\n",
       "      <td>T1011</td>\n",
       "      <td>147</td>\n",
       "    </tr>\n",
       "    <tr>\n",
       "      <th>2</th>\n",
       "      <td>T1022</td>\n",
       "      <td>195</td>\n",
       "    </tr>\n",
       "    <tr>\n",
       "      <th>3</th>\n",
       "      <td>T1086</td>\n",
       "      <td>140</td>\n",
       "    </tr>\n",
       "    <tr>\n",
       "      <th>4</th>\n",
       "      <td>T1033</td>\n",
       "      <td>178</td>\n",
       "    </tr>\n",
       "  </tbody>\n",
       "</table>\n",
       "</div>"
      ],
      "text/plain": [
       "  Invoice  Item\n",
       "0   T1008   112\n",
       "1   T1011   147\n",
       "2   T1022   195\n",
       "3   T1086   140\n",
       "4   T1033   178"
      ]
     },
     "metadata": {},
     "output_type": "display_data"
    }
   ],
   "source": [
    "df = pd.read_csv(csv_in, delimiter=',', skiprows=0, header=0)\n",
    "print(df.shape)\n",
    "print(df.info())\n",
    "display(df.head())"
   ]
  },
  {
   "cell_type": "code",
   "execution_count": 46,
   "id": "surprising-aspect",
   "metadata": {},
   "outputs": [
    {
     "name": "stdout",
     "output_type": "stream",
     "text": [
      "Unique number of invoices: 99\n",
      "Unique number of item: 103\n"
     ]
    }
   ],
   "source": [
    "print(\"Unique number of invoices:\", df['Invoice'].nunique())\n",
    "print(\"Unique number of item:\", df['Item'].nunique())"
   ]
  },
  {
   "cell_type": "code",
   "execution_count": 47,
   "id": "deluxe-directory",
   "metadata": {},
   "outputs": [],
   "source": [
    "id2sc = sorted(list(set(df['Item'])))\n",
    "sc2id = {}\n",
    "for i in range(len(id2sc)):\n",
    "    sc2id[id2sc[i]] = i"
   ]
  },
  {
   "cell_type": "code",
   "execution_count": 48,
   "id": "representative-mountain",
   "metadata": {},
   "outputs": [
    {
     "data": {
      "text/html": [
       "<div>\n",
       "<style scoped>\n",
       "    .dataframe tbody tr th:only-of-type {\n",
       "        vertical-align: middle;\n",
       "    }\n",
       "\n",
       "    .dataframe tbody tr th {\n",
       "        vertical-align: top;\n",
       "    }\n",
       "\n",
       "    .dataframe thead th {\n",
       "        text-align: right;\n",
       "    }\n",
       "</style>\n",
       "<table border=\"1\" class=\"dataframe\">\n",
       "  <thead>\n",
       "    <tr style=\"text-align: right;\">\n",
       "      <th></th>\n",
       "      <th>Invoice</th>\n",
       "      <th>Item</th>\n",
       "      <th>Item_ID</th>\n",
       "    </tr>\n",
       "  </thead>\n",
       "  <tbody>\n",
       "    <tr>\n",
       "      <th>0</th>\n",
       "      <td>T1008</td>\n",
       "      <td>112</td>\n",
       "      <td>11</td>\n",
       "    </tr>\n",
       "    <tr>\n",
       "      <th>1</th>\n",
       "      <td>T1011</td>\n",
       "      <td>147</td>\n",
       "      <td>46</td>\n",
       "    </tr>\n",
       "    <tr>\n",
       "      <th>2</th>\n",
       "      <td>T1022</td>\n",
       "      <td>195</td>\n",
       "      <td>94</td>\n",
       "    </tr>\n",
       "    <tr>\n",
       "      <th>3</th>\n",
       "      <td>T1086</td>\n",
       "      <td>140</td>\n",
       "      <td>39</td>\n",
       "    </tr>\n",
       "    <tr>\n",
       "      <th>4</th>\n",
       "      <td>T1033</td>\n",
       "      <td>178</td>\n",
       "      <td>77</td>\n",
       "    </tr>\n",
       "  </tbody>\n",
       "</table>\n",
       "</div>"
      ],
      "text/plain": [
       "  Invoice  Item  Item_ID\n",
       "0   T1008   112       11\n",
       "1   T1011   147       46\n",
       "2   T1022   195       94\n",
       "3   T1086   140       39\n",
       "4   T1033   178       77"
      ]
     },
     "metadata": {},
     "output_type": "display_data"
    }
   ],
   "source": [
    "df['Item_ID'] = df['Item'].map(lambda x: sc2id[x])\n",
    "display(df.head())"
   ]
  },
  {
   "cell_type": "code",
   "execution_count": 49,
   "id": "preceding-turkish",
   "metadata": {},
   "outputs": [
    {
     "name": "stdout",
     "output_type": "stream",
     "text": [
      "99\n"
     ]
    }
   ],
   "source": [
    "invoices = []\n",
    "for r in df.groupby('Invoice'):\n",
    "    #print(len(r))  # debug\n",
    "    #print(r[0])  # debug\n",
    "    #print(r[1])  # debug\n",
    "    #break  # debug\n",
    "    s1 = set(r[1]['Item_ID'])\n",
    "    invoices.append(list(s1))\n",
    "print(len(invoices))"
   ]
  },
  {
   "cell_type": "code",
   "execution_count": 50,
   "id": "arranged-division",
   "metadata": {},
   "outputs": [
    {
     "name": "stdout",
     "output_type": "stream",
     "text": [
      "Wall time: 3.99 ms\n"
     ]
    }
   ],
   "source": [
    "%time patterns = pyfpgrowth.find_frequent_patterns(invoices, 5)\n"
   ]
  },
  {
   "cell_type": "code",
   "execution_count": 51,
   "id": "covered-exhibit",
   "metadata": {},
   "outputs": [
    {
     "name": "stdout",
     "output_type": "stream",
     "text": [
      "Wall time: 0 ns\n"
     ]
    }
   ],
   "source": [
    "%time rules = pyfpgrowth.generate_association_rules(patterns, 0.3)"
   ]
  },
  {
   "cell_type": "code",
   "execution_count": 52,
   "id": "accurate-editor",
   "metadata": {},
   "outputs": [
    {
     "name": "stdout",
     "output_type": "stream",
     "text": [
      "{(30,): ((57,), 0.45454545454545453), (57,): ((30,), 0.5555555555555556), (29,): ((85,), 0.3333333333333333), (65,): ((29,), 0.5), (0,): ((24,), 0.45454545454545453), (24,): ((0,), 0.45454545454545453), (26,): ((50,), 0.4166666666666667), (50,): ((26,), 0.38461538461538464), (72,): ((81,), 0.38461538461538464), (85,): ((29,), 0.35714285714285715)}\n"
     ]
    }
   ],
   "source": [
    "print(rules)"
   ]
  },
  {
   "cell_type": "code",
   "execution_count": 53,
   "id": "latest-washer",
   "metadata": {},
   "outputs": [],
   "source": [
    "results = []\n",
    "for x in rules:\n",
    "    ret = [x, rules[x][0], rules[x][1]]\n",
    "    results.append(ret)\n",
    "df_res = pd.DataFrame(results)\n",
    "df_res.columns = ['LHS', 'RHS', 'Conf']"
   ]
  },
  {
   "cell_type": "code",
   "execution_count": 54,
   "id": "republican-working",
   "metadata": {},
   "outputs": [
    {
     "data": {
      "text/html": [
       "<div>\n",
       "<style scoped>\n",
       "    .dataframe tbody tr th:only-of-type {\n",
       "        vertical-align: middle;\n",
       "    }\n",
       "\n",
       "    .dataframe tbody tr th {\n",
       "        vertical-align: top;\n",
       "    }\n",
       "\n",
       "    .dataframe thead th {\n",
       "        text-align: right;\n",
       "    }\n",
       "</style>\n",
       "<table border=\"1\" class=\"dataframe\">\n",
       "  <thead>\n",
       "    <tr style=\"text-align: right;\">\n",
       "      <th></th>\n",
       "      <th>LHS</th>\n",
       "      <th>RHS</th>\n",
       "      <th>Conf</th>\n",
       "    </tr>\n",
       "  </thead>\n",
       "  <tbody>\n",
       "    <tr>\n",
       "      <th>1</th>\n",
       "      <td>(57,)</td>\n",
       "      <td>(30,)</td>\n",
       "      <td>0.555556</td>\n",
       "    </tr>\n",
       "    <tr>\n",
       "      <th>3</th>\n",
       "      <td>(65,)</td>\n",
       "      <td>(29,)</td>\n",
       "      <td>0.500000</td>\n",
       "    </tr>\n",
       "    <tr>\n",
       "      <th>0</th>\n",
       "      <td>(30,)</td>\n",
       "      <td>(57,)</td>\n",
       "      <td>0.454545</td>\n",
       "    </tr>\n",
       "    <tr>\n",
       "      <th>4</th>\n",
       "      <td>(0,)</td>\n",
       "      <td>(24,)</td>\n",
       "      <td>0.454545</td>\n",
       "    </tr>\n",
       "    <tr>\n",
       "      <th>5</th>\n",
       "      <td>(24,)</td>\n",
       "      <td>(0,)</td>\n",
       "      <td>0.454545</td>\n",
       "    </tr>\n",
       "    <tr>\n",
       "      <th>6</th>\n",
       "      <td>(26,)</td>\n",
       "      <td>(50,)</td>\n",
       "      <td>0.416667</td>\n",
       "    </tr>\n",
       "    <tr>\n",
       "      <th>7</th>\n",
       "      <td>(50,)</td>\n",
       "      <td>(26,)</td>\n",
       "      <td>0.384615</td>\n",
       "    </tr>\n",
       "    <tr>\n",
       "      <th>8</th>\n",
       "      <td>(72,)</td>\n",
       "      <td>(81,)</td>\n",
       "      <td>0.384615</td>\n",
       "    </tr>\n",
       "    <tr>\n",
       "      <th>9</th>\n",
       "      <td>(85,)</td>\n",
       "      <td>(29,)</td>\n",
       "      <td>0.357143</td>\n",
       "    </tr>\n",
       "    <tr>\n",
       "      <th>2</th>\n",
       "      <td>(29,)</td>\n",
       "      <td>(85,)</td>\n",
       "      <td>0.333333</td>\n",
       "    </tr>\n",
       "  </tbody>\n",
       "</table>\n",
       "</div>"
      ],
      "text/plain": [
       "     LHS    RHS      Conf\n",
       "1  (57,)  (30,)  0.555556\n",
       "3  (65,)  (29,)  0.500000\n",
       "0  (30,)  (57,)  0.454545\n",
       "4   (0,)  (24,)  0.454545\n",
       "5  (24,)   (0,)  0.454545\n",
       "6  (26,)  (50,)  0.416667\n",
       "7  (50,)  (26,)  0.384615\n",
       "8  (72,)  (81,)  0.384615\n",
       "9  (85,)  (29,)  0.357143\n",
       "2  (29,)  (85,)  0.333333"
      ]
     },
     "metadata": {},
     "output_type": "display_data"
    }
   ],
   "source": [
    "display(df_res.sort_values(by='Conf', ascending=False))\n"
   ]
  },
  {
   "cell_type": "code",
   "execution_count": 56,
   "id": "coated-degree",
   "metadata": {},
   "outputs": [],
   "source": [
    "n_all = len(invoices)\n",
    "lift = []\n",
    "for i in range(df_res.shape[0]):\n",
    "    rhs = df_res.at[i, 'RHS']\n",
    "    conf = df_res.at[i, 'Conf']\n",
    "    n_rhs = 0\n",
    "    for items in invoices:\n",
    "        if set(items) >= set(rhs):\n",
    "            n_rhs += 1\n",
    "    lift1 = conf / (n_rhs / n_all)\n",
    "    lift.append(lift1)\n",
    "    \n",
    "df_res['Lift'] = lift"
   ]
  },
  {
   "cell_type": "code",
   "execution_count": 57,
   "id": "wired-hunter",
   "metadata": {},
   "outputs": [
    {
     "data": {
      "text/html": [
       "<div>\n",
       "<style scoped>\n",
       "    .dataframe tbody tr th:only-of-type {\n",
       "        vertical-align: middle;\n",
       "    }\n",
       "\n",
       "    .dataframe tbody tr th {\n",
       "        vertical-align: top;\n",
       "    }\n",
       "\n",
       "    .dataframe thead th {\n",
       "        text-align: right;\n",
       "    }\n",
       "</style>\n",
       "<table border=\"1\" class=\"dataframe\">\n",
       "  <thead>\n",
       "    <tr style=\"text-align: right;\">\n",
       "      <th></th>\n",
       "      <th>LHS</th>\n",
       "      <th>RHS</th>\n",
       "      <th>Conf</th>\n",
       "      <th>Lift</th>\n",
       "    </tr>\n",
       "  </thead>\n",
       "  <tbody>\n",
       "    <tr>\n",
       "      <th>1</th>\n",
       "      <td>(57,)</td>\n",
       "      <td>(30,)</td>\n",
       "      <td>0.555556</td>\n",
       "      <td>5.000000</td>\n",
       "    </tr>\n",
       "    <tr>\n",
       "      <th>3</th>\n",
       "      <td>(65,)</td>\n",
       "      <td>(29,)</td>\n",
       "      <td>0.500000</td>\n",
       "      <td>3.300000</td>\n",
       "    </tr>\n",
       "    <tr>\n",
       "      <th>0</th>\n",
       "      <td>(30,)</td>\n",
       "      <td>(57,)</td>\n",
       "      <td>0.454545</td>\n",
       "      <td>5.000000</td>\n",
       "    </tr>\n",
       "    <tr>\n",
       "      <th>4</th>\n",
       "      <td>(0,)</td>\n",
       "      <td>(24,)</td>\n",
       "      <td>0.454545</td>\n",
       "      <td>4.090909</td>\n",
       "    </tr>\n",
       "    <tr>\n",
       "      <th>5</th>\n",
       "      <td>(24,)</td>\n",
       "      <td>(0,)</td>\n",
       "      <td>0.454545</td>\n",
       "      <td>4.090909</td>\n",
       "    </tr>\n",
       "    <tr>\n",
       "      <th>6</th>\n",
       "      <td>(26,)</td>\n",
       "      <td>(50,)</td>\n",
       "      <td>0.416667</td>\n",
       "      <td>3.173077</td>\n",
       "    </tr>\n",
       "    <tr>\n",
       "      <th>7</th>\n",
       "      <td>(50,)</td>\n",
       "      <td>(26,)</td>\n",
       "      <td>0.384615</td>\n",
       "      <td>3.173077</td>\n",
       "    </tr>\n",
       "    <tr>\n",
       "      <th>8</th>\n",
       "      <td>(72,)</td>\n",
       "      <td>(81,)</td>\n",
       "      <td>0.384615</td>\n",
       "      <td>3.173077</td>\n",
       "    </tr>\n",
       "    <tr>\n",
       "      <th>9</th>\n",
       "      <td>(85,)</td>\n",
       "      <td>(29,)</td>\n",
       "      <td>0.357143</td>\n",
       "      <td>2.357143</td>\n",
       "    </tr>\n",
       "    <tr>\n",
       "      <th>2</th>\n",
       "      <td>(29,)</td>\n",
       "      <td>(85,)</td>\n",
       "      <td>0.333333</td>\n",
       "      <td>2.357143</td>\n",
       "    </tr>\n",
       "  </tbody>\n",
       "</table>\n",
       "</div>"
      ],
      "text/plain": [
       "     LHS    RHS      Conf      Lift\n",
       "1  (57,)  (30,)  0.555556  5.000000\n",
       "3  (65,)  (29,)  0.500000  3.300000\n",
       "0  (30,)  (57,)  0.454545  5.000000\n",
       "4   (0,)  (24,)  0.454545  4.090909\n",
       "5  (24,)   (0,)  0.454545  4.090909\n",
       "6  (26,)  (50,)  0.416667  3.173077\n",
       "7  (50,)  (26,)  0.384615  3.173077\n",
       "8  (72,)  (81,)  0.384615  3.173077\n",
       "9  (85,)  (29,)  0.357143  2.357143\n",
       "2  (29,)  (85,)  0.333333  2.357143"
      ]
     },
     "metadata": {},
     "output_type": "display_data"
    }
   ],
   "source": [
    "display(df_res.sort_values(by='Conf', ascending=False))\n"
   ]
  },
  {
   "cell_type": "code",
   "execution_count": null,
   "id": "neither-giving",
   "metadata": {},
   "outputs": [],
   "source": []
  }
 ],
 "metadata": {
  "kernelspec": {
   "display_name": "Python 3",
   "language": "python",
   "name": "python3"
  },
  "language_info": {
   "codemirror_mode": {
    "name": "ipython",
    "version": 3
   },
   "file_extension": ".py",
   "mimetype": "text/x-python",
   "name": "python",
   "nbconvert_exporter": "python",
   "pygments_lexer": "ipython3",
   "version": "3.8.8"
  }
 },
 "nbformat": 4,
 "nbformat_minor": 5
}
