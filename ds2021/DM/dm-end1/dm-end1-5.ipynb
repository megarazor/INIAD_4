{
 "cells": [
  {
   "cell_type": "markdown",
   "metadata": {},
   "source": [
    "### Test of dual_annealing  "
   ]
  },
  {
   "cell_type": "markdown",
   "metadata": {},
   "source": [
    "#### Import libraries  "
   ]
  },
  {
   "cell_type": "code",
   "execution_count": 1,
   "metadata": {},
   "outputs": [],
   "source": [
    "import numpy as np\n",
    "import pandas as pd\n",
    "from random import uniform\n",
    "from scipy.optimize import dual_annealing"
   ]
  },
  {
   "cell_type": "code",
   "execution_count": 3,
   "metadata": {},
   "outputs": [],
   "source": [
    "def cost_func(x):\n",
    "    total = 2 * (x[0] - x[1])**2 + 2 * np.sin(x[0] + x[1]) - 3 * x[0] + 5 * x[1] + 7\n",
    "    return total"
   ]
  },
  {
   "cell_type": "code",
   "execution_count": 4,
   "metadata": {},
   "outputs": [],
   "source": [
    "bounds = [(-1.5, 4), (-3, 4)]"
   ]
  },
  {
   "cell_type": "code",
   "execution_count": 5,
   "metadata": {},
   "outputs": [],
   "source": [
    "n_trial = 3"
   ]
  },
  {
   "cell_type": "code",
   "execution_count": 6,
   "metadata": {},
   "outputs": [
    {
     "name": "stdout",
     "output_type": "stream",
     "text": [
      "[2.03056265 2.93181323]\n",
      "x: [-0.54719754 -1.54719758]\n",
      "f(x): 1.173554090037931\n",
      "[0.8058757  3.92969628]\n",
      "x: [-0.5471961 -1.5471961]\n",
      "f(x): 1.1735540900452062\n",
      "[-0.13813463 -1.1002451 ]\n",
      "x: [-0.54719718 -1.54719749]\n",
      "f(x): 1.1735540900382748\n"
     ]
    }
   ],
   "source": [
    "x = np.zeros(2)\n",
    "for i in range(n_trial):\n",
    "    # Initial value\n",
    "    x[0] = uniform(-1.5, 4)\n",
    "    x[1] = uniform(-3, 4)\n",
    "    print(x)  # debug\n",
    "    \n",
    "    # Dual annealing optimization\n",
    "    ret = dual_annealing(cost_func, bounds, x0=x, maxiter=500)\n",
    "    print('x:', ret.x)\n",
    "    print('f(x):', ret.fun)"
   ]
  },
  {
   "cell_type": "code",
   "execution_count": null,
   "metadata": {},
   "outputs": [],
   "source": []
  }
 ],
 "metadata": {
  "kernelspec": {
   "display_name": "Python 3",
   "language": "python",
   "name": "python3"
  },
  "language_info": {
   "codemirror_mode": {
    "name": "ipython",
    "version": 3
   },
   "file_extension": ".py",
   "mimetype": "text/x-python",
   "name": "python",
   "nbconvert_exporter": "python",
   "pygments_lexer": "ipython3",
   "version": "3.8.8"
  }
 },
 "nbformat": 4,
 "nbformat_minor": 4
}
