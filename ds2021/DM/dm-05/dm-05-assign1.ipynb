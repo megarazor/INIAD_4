{
 "cells": [
  {
   "cell_type": "code",
   "execution_count": 1,
   "id": "quiet-pearl",
   "metadata": {},
   "outputs": [],
   "source": [
    "import pandas as pd\n",
    "from sklearn.feature_extraction.text import CountVectorizer\n",
    "from sklearn.naive_bayes import MultinomialNB"
   ]
  },
  {
   "cell_type": "code",
   "execution_count": 3,
   "id": "flying-heading",
   "metadata": {},
   "outputs": [
    {
     "name": "stdout",
     "output_type": "stream",
     "text": [
      "(3, 2)\n",
      "<class 'pandas.core.frame.DataFrame'>\n",
      "RangeIndex: 3 entries, 0 to 2\n",
      "Data columns (total 2 columns):\n",
      " #   Column    Non-Null Count  Dtype \n",
      "---  ------    --------------  ----- \n",
      " 0   category  3 non-null      object\n",
      " 1   text      3 non-null      object\n",
      "dtypes: object(2)\n",
      "memory usage: 176.0+ bytes\n",
      "None\n"
     ]
    },
    {
     "data": {
      "text/html": [
       "<div>\n",
       "<style scoped>\n",
       "    .dataframe tbody tr th:only-of-type {\n",
       "        vertical-align: middle;\n",
       "    }\n",
       "\n",
       "    .dataframe tbody tr th {\n",
       "        vertical-align: top;\n",
       "    }\n",
       "\n",
       "    .dataframe thead th {\n",
       "        text-align: right;\n",
       "    }\n",
       "</style>\n",
       "<table border=\"1\" class=\"dataframe\">\n",
       "  <thead>\n",
       "    <tr style=\"text-align: right;\">\n",
       "      <th></th>\n",
       "      <th>category</th>\n",
       "      <th>text</th>\n",
       "    </tr>\n",
       "  </thead>\n",
       "  <tbody>\n",
       "    <tr>\n",
       "      <th>0</th>\n",
       "      <td>kennedy</td>\n",
       "      <td>kennedy   was   born   into   a   wealthy ,   ...</td>\n",
       "    </tr>\n",
       "    <tr>\n",
       "      <th>1</th>\n",
       "      <td>lincoln</td>\n",
       "      <td>lincoln   was   born   into   poverty   in   a...</td>\n",
       "    </tr>\n",
       "    <tr>\n",
       "      <th>2</th>\n",
       "      <td>trump</td>\n",
       "      <td>born   and   raised   in   queens ,   new   yo...</td>\n",
       "    </tr>\n",
       "  </tbody>\n",
       "</table>\n",
       "</div>"
      ],
      "text/plain": [
       "  category                                               text\n",
       "0  kennedy  kennedy   was   born   into   a   wealthy ,   ...\n",
       "1  lincoln  lincoln   was   born   into   poverty   in   a...\n",
       "2    trump  born   and   raised   in   queens ,   new   yo..."
      ]
     },
     "metadata": {},
     "output_type": "display_data"
    }
   ],
   "source": [
    "df = pd.read_csv(\"presidents.csv\", delimiter=',', skiprows=0, header=0)\n",
    "print(df.shape)\n",
    "print(df.info())\n",
    "display(df.head())"
   ]
  },
  {
   "cell_type": "code",
   "execution_count": 4,
   "id": "experienced-indianapolis",
   "metadata": {},
   "outputs": [
    {
     "name": "stdout",
     "output_type": "stream",
     "text": [
      "0    kennedy   was   born   into   a   wealthy ,   ...\n",
      "1    lincoln   was   born   into   poverty   in   a...\n",
      "2    born   and   raised   in   queens ,   new   yo...\n",
      "Name: text, dtype: object\n",
      "0    kennedy\n",
      "1    lincoln\n",
      "2      trump\n",
      "Name: category, dtype: object\n"
     ]
    }
   ],
   "source": [
    "X_train = df['text']\n",
    "y_train = df['category']\n",
    "print(X_train)\n",
    "print(y_train)"
   ]
  },
  {
   "cell_type": "code",
   "execution_count": 5,
   "id": "extra-feelings",
   "metadata": {},
   "outputs": [
    {
     "name": "stdout",
     "output_type": "stream",
     "text": [
      "['Civil War Gettysburg slavery']\n"
     ]
    }
   ],
   "source": [
    "X_test = ['Civil War Gettysburg slavery']\n",
    "print(X_test)"
   ]
  },
  {
   "cell_type": "code",
   "execution_count": 6,
   "id": "convertible-nursing",
   "metadata": {},
   "outputs": [
    {
     "name": "stdout",
     "output_type": "stream",
     "text": [
      "Vocabulary size: 722\n",
      "['000', '13', '14', '1849', '1854', '1858', '1860', '1865', '19', '1940', '1947', '1953', '1960', '1961', '1962', '1963', '1964', '1968', '1970', '1971', '1996', '200', '2003', '2015', '2016', '2017', '2019', '2020', '2021', '22', 'about', 'abuse', 'acquitted', 'across', 'act', 'acted', 'actions', 'addition', 'additional', 'address', 'administration', 'advisers', 'affair', 'affairs', 'affordable', 'after', 'against', 'agenda', 'agreement', 'ailments', 'alliance', 'alone', 'also', 'amendment', 'america', 'american', 'an', 'and', 'anti', 'apollo', 'appealing', 'appointed', 'appomattox', 'apprentice', 'approval', 'april', 'army', 'array', 'arrested', 'as', 'assassinated', 'assassination', 'assets', 'assumed', 'at', 'attacks', 'attempt', 'attempted', 'attended', 'attending', 'audience', 'authorized', 'availability', 'averted', 'bachelor', 'ban', 'bankruptcies', 'bases', 'bay', 'be', 'beauty', 'became', 'becoming', 'been', 'before', 'began', 'believed', 'benefited', 'biden', 'blockade', 'boats', 'book', 'booth', 'border', 'born', 'boston', 'both', 'brand', 'breakout', 'brief', 'british', 'broke', 'brookline', 'building', 'business', 'businesses', 'but', 'by', 'cabin', 'call', 'called', 'camp', 'campaign', 'campaigns', 'canada', 'capitol', 'care', 'carefully', 'casinos', 'castro', 'catholic', 'challenges', 'change', 'characterized', 'charged', 'charges', 'charm', 'china', 'chronic', 'citing', 'citizens', 'city', 'civil', 'claims', 'clarion', 'class', 'climate', 'clinton', 'co', 'cold', 'commanded', 'comments', 'commission', 'communist', 'company', 'concede', 'concerns', 'concluded', 'confederate', 'confederates', 'conflict', 'congress', 'congressman', 'considerable', 'consistently', 'conspiracy', 'constitution', 'contacts', 'contentious', 'contested', 'continuation', 'continued', 'contradicted', 'coordination', 'copperheads', 'corps', 'corpus', 'counsel', 'count', 'countered', 'countries', 'country', 'courage', 'courses', 'court', 'covid', 'crime', 'criminal', 'crisis', 'cuba', 'cuban', 'cut', 'cuts', 'dallas', 'days', 'deal', 'death', 'debates', 'december', 'defeat', 'defeated', 'defusing', 'degree', 'demanded', 'democracy', 'democratic', 'democrats', 'denuclearization', 'deployed', 'described', 'despised', 'despite', 'did', 'die', 'discovered', 'distributing', 'district', 'domestic', 'douglas', 'down', 'during', 'earned', 'educated', 'effort', 'elected', 'election', 'electoral', 'elements', 'emancipation', 'enacted', 'encouraged', 'end', 'engineered', 'enmity', 'entered', 'equal', 'equated', 'establish', 'establishment', 'estate', 'eventually', 'evidence', 'exonerated', 'expanded', 'exploiting', 'extramarital', 'faction', 'factions', 'failed', 'false', 'family', 'father', 'fbi', 'february', 'federal', 'fidel', 'find', 'fired', 'first', 'flag', 'focus', 'following', 'for', 'forces', 'ford', 'fordham', 'foreign', 'former', 'fort', 'found', 'fraud', 'fred', 'free', 'friends', 'from', 'frontier', 'gain', 'gained', 'general', 'generals', 'gettysburg', 'global', 'goal', 'golf', 'government', 'graduated', 'graduating', 'great', 'greatest', 'groups', 'habeas', 'had', 'hamlet', 'harsh', 'harvard', 'harvey', 'has', 'have', 'he', 'heal', 'health', 'hero', 'high', 'highly', 'hillary', 'him', 'his', 'historians', 'historic', 'history', 'hosted', 'hotels', 'house', 'however', 'humor', 'hundreds', 'ignored', 'ii', 'illinois', 'impeached', 'import', 'imposed', 'in', 'incitement', 'included', 'including', 'increased', 'incumbent', 'independence', 'indiana', 'indicted', 'individual', 'individuals', 'insurance', 'insurrection', 'interest', 'interference', 'interrupting', 'intervention', 'into', 'invasion', 'investigate', 'investigated', 'investigation', 'involved', 'iran', 'irreconcilable', 'is', 'isolationist', 'it', 'its', 'jack', 'january', 'jobs', 'joe', 'john', 'johnson', 'joining', 'jong', 'journalism', 'judges', 'junior', 'just', 'justice', 'kansas', 'kennedy', 'killed', 'kim', 'korean', 'landing', 'lands', 'large', 'later', 'latin', 'law', 'lawyer', 'leader', 'led', 'lee', 'legal', 'legislator', 'liberty', 'licensing', 'life', 'lincoln', 'log', 'losing', 'lost', 'lyndon', 'made', 'majority', 'making', 'man', 'managed', 'mandate', 'many', 'march', 'marine', 'martyr', 'marxist', 'mary', 'massachusetts', 'medal', 'messaging', 'met', 'mexico', 'military', 'misinformation', 'misleading', 'miss', 'missile', 'moderate', 'momentum', 'money', 'moon', 'more', 'most', 'mostly', 'mounting', 'movement', 'mueller', 'muslim', 'mutual', 'name', 'narrowly', 'nation', 'national', 'nationalism', 'nationalist', 'naval', 'navigate', 'navy', 'nearly', 'nebraska', 'negotiations', 'neither', 'new', 'nixon', 'nominee', 'nor', 'north', 'northwoods', 'not', 'november', 'nuclear', 'number', 'numerous', 'obstructing', 'obstruction', 'october', 'of', 'office', 'officeholder', 'officials', 'on', 'one', 'only', 'opening', 'operation', 'operations', 'opponent', 'opponents', 'or', 'order', 'ordered', 'organization', 'oswald', 'outlaw', 'outlawed', 'over', 'overthrow', 'overturn', 'own', 'owned', 'pacific', 'pageants', 'pandemic', 'paris', 'partnership', 'party', 'passing', 'patronage', 'peace', 'penalty', 'pennsylvania', 'people', 'period', 'personal', 'pigs', 'plan', 'planes', 'plans', 'play', 'plotted', 'policies', 'policy', 'political', 'politics', 'polls', 'popular', 'populist', 'positions', 'poverty', 'power', 'practice', 'presided', 'presidency', 'president', 'presidential', 'presidents', 'pressuring', 'primarily', 'prior', 'prize', 'pro', 'proclamation', 'produced', 'profiles', 'program', 'progress', 'project', 'promoted', 'proposals', 'protect', 'protectionist', 'protests', 'pt', 'public', 'published', 'pulitzer', 'pursued', 'queens', 'race', 'racially', 'racist', 'radical', 'raised', 'rallied', 'ran', 'ranked', 'ranks', 're', 'reached', 'reacted', 'real', 'reality', 'rebellion', 'recent', 'recommendations', 'reconciliation', 'recruit', 'reentered', 'refused', 'rejected', 'rejection', 'remembered', 'renamed', 'renegotiated', 'renovating', 'report', 'representatives', 'represented', 'republican', 'republicanism', 'republicans', 'rescinded', 'reserve', 'restore', 'result', 'resulted', 'resulting', 'results', 'returned', 'revelations', 'revenue', 'revision', 'richard', 'right', 'rights', 'robert', 'ruby', 'russia', 'russian', 'scores', 'scrutinized', 'seceding', 'second', 'secure', 'security', 'selection', 'self', 'senate', 'senator', 'series', 'served', 'service', 'several', 'shot', 'side', 'sides', 'signed', 'six', 'skyscrapers', 'slavery', 'slaves', 'slowly', 'solicited', 'somewhat', 'sought', 'south', 'southern', 'soviet', 'space', 'sparked', 'special', 'spy', 'started', 'state', 'statements', 'states', 'stephen', 'stint', 'stormed', 'strategic', 'strategy', 'subsequently', 'success', 'successful', 'sufficient', 'summer', 'sumter', 'supported', 'supporters', 'suppress', 'supreme', 'suspended', 'sustained', 'sweeping', 'sympathizer', 'tactics', 'tariffs', 'tax', 'taxes', 'televised', 'television', 'tensions', 'termed', 'testing', 'than', 'that', 'the', 'theater', 'theatre', 'their', 'thermonuclear', 'they', 'third', 'thirteenth', 'three', 'through', 'time', 'times', 'to', 'torn', 'trade', 'trans', 'transition', 'travel', 'treatment', 'treatments', 'treaty', 'trent', 'triggered', 'trump', 'truncated', 'twice', 'two', 'ukraine', 'un', 'union', 'united', 'universe', 'university', 'unprecedented', 'unproven', 'unsuccessful', 'up', 'upheld', 'upon', 'upset', 'urged', 'various', 'ventures', 'vexed', 'vice', 'victim', 'victory', 'vietnam', 'vote', 'war', 'warren', 'was', 'wealthy', 'weapons', 'well', 'were', 'when', 'which', 'whig', 'while', 'who', 'wife', 'wilkes', 'with', 'withdrew', 'without', 'won', 'working', 'world', 'year', 'york', 'youth']\n"
     ]
    }
   ],
   "source": [
    "vectorizer = CountVectorizer()\n",
    "vectorizer.fit(X_train)\n",
    "vocab = vectorizer. get_feature_names()\n",
    "print('Vocabulary size:', len(vocab))\n",
    "print(vocab)"
   ]
  },
  {
   "cell_type": "code",
   "execution_count": 7,
   "id": "naughty-medicine",
   "metadata": {},
   "outputs": [
    {
     "name": "stdout",
     "output_type": "stream",
     "text": [
      "X_train_bow:\n",
      "<3x722 sparse matrix of type '<class 'numpy.int64'>'\n",
      "\twith 850 stored elements in Compressed Sparse Row format>\n",
      "X_test_bow:\n",
      "<1x722 sparse matrix of type '<class 'numpy.int64'>'\n",
      "\twith 4 stored elements in Compressed Sparse Row format>\n"
     ]
    }
   ],
   "source": [
    "X_train_bow = vectorizer.transform(X_train)\n",
    "X_test_bow = vectorizer.transform(X_test)\n",
    "print('X_train_bow:')\n",
    "print(repr(X_train_bow))\n",
    "print('X_test_bow:')\n",
    "print(repr(X_test_bow))"
   ]
  },
  {
   "cell_type": "code",
   "execution_count": 8,
   "id": "focal-parade",
   "metadata": {},
   "outputs": [
    {
     "data": {
      "text/html": [
       "<div>\n",
       "<style scoped>\n",
       "    .dataframe tbody tr th:only-of-type {\n",
       "        vertical-align: middle;\n",
       "    }\n",
       "\n",
       "    .dataframe tbody tr th {\n",
       "        vertical-align: top;\n",
       "    }\n",
       "\n",
       "    .dataframe thead th {\n",
       "        text-align: right;\n",
       "    }\n",
       "</style>\n",
       "<table border=\"1\" class=\"dataframe\">\n",
       "  <thead>\n",
       "    <tr style=\"text-align: right;\">\n",
       "      <th></th>\n",
       "      <th>000</th>\n",
       "      <th>13</th>\n",
       "      <th>14</th>\n",
       "      <th>1849</th>\n",
       "      <th>1854</th>\n",
       "      <th>1858</th>\n",
       "      <th>1860</th>\n",
       "      <th>1865</th>\n",
       "      <th>19</th>\n",
       "      <th>1940</th>\n",
       "      <th>...</th>\n",
       "      <th>wilkes</th>\n",
       "      <th>with</th>\n",
       "      <th>withdrew</th>\n",
       "      <th>without</th>\n",
       "      <th>won</th>\n",
       "      <th>working</th>\n",
       "      <th>world</th>\n",
       "      <th>year</th>\n",
       "      <th>york</th>\n",
       "      <th>youth</th>\n",
       "    </tr>\n",
       "    <tr>\n",
       "      <th>category</th>\n",
       "      <th></th>\n",
       "      <th></th>\n",
       "      <th></th>\n",
       "      <th></th>\n",
       "      <th></th>\n",
       "      <th></th>\n",
       "      <th></th>\n",
       "      <th></th>\n",
       "      <th></th>\n",
       "      <th></th>\n",
       "      <th></th>\n",
       "      <th></th>\n",
       "      <th></th>\n",
       "      <th></th>\n",
       "      <th></th>\n",
       "      <th></th>\n",
       "      <th></th>\n",
       "      <th></th>\n",
       "      <th></th>\n",
       "      <th></th>\n",
       "      <th></th>\n",
       "    </tr>\n",
       "  </thead>\n",
       "  <tbody>\n",
       "    <tr>\n",
       "      <th>kennedy</th>\n",
       "      <td>0</td>\n",
       "      <td>0</td>\n",
       "      <td>0</td>\n",
       "      <td>0</td>\n",
       "      <td>0</td>\n",
       "      <td>0</td>\n",
       "      <td>0</td>\n",
       "      <td>0</td>\n",
       "      <td>0</td>\n",
       "      <td>1</td>\n",
       "      <td>...</td>\n",
       "      <td>0</td>\n",
       "      <td>4</td>\n",
       "      <td>0</td>\n",
       "      <td>0</td>\n",
       "      <td>1</td>\n",
       "      <td>1</td>\n",
       "      <td>1</td>\n",
       "      <td>1</td>\n",
       "      <td>0</td>\n",
       "      <td>1</td>\n",
       "    </tr>\n",
       "    <tr>\n",
       "      <th>lincoln</th>\n",
       "      <td>0</td>\n",
       "      <td>0</td>\n",
       "      <td>1</td>\n",
       "      <td>1</td>\n",
       "      <td>1</td>\n",
       "      <td>1</td>\n",
       "      <td>1</td>\n",
       "      <td>1</td>\n",
       "      <td>0</td>\n",
       "      <td>0</td>\n",
       "      <td>...</td>\n",
       "      <td>1</td>\n",
       "      <td>4</td>\n",
       "      <td>0</td>\n",
       "      <td>0</td>\n",
       "      <td>0</td>\n",
       "      <td>0</td>\n",
       "      <td>0</td>\n",
       "      <td>0</td>\n",
       "      <td>0</td>\n",
       "      <td>0</td>\n",
       "    </tr>\n",
       "    <tr>\n",
       "      <th>trump</th>\n",
       "      <td>1</td>\n",
       "      <td>2</td>\n",
       "      <td>0</td>\n",
       "      <td>0</td>\n",
       "      <td>0</td>\n",
       "      <td>0</td>\n",
       "      <td>0</td>\n",
       "      <td>0</td>\n",
       "      <td>1</td>\n",
       "      <td>0</td>\n",
       "      <td>...</td>\n",
       "      <td>0</td>\n",
       "      <td>4</td>\n",
       "      <td>1</td>\n",
       "      <td>1</td>\n",
       "      <td>0</td>\n",
       "      <td>0</td>\n",
       "      <td>0</td>\n",
       "      <td>0</td>\n",
       "      <td>1</td>\n",
       "      <td>0</td>\n",
       "    </tr>\n",
       "  </tbody>\n",
       "</table>\n",
       "<p>3 rows × 722 columns</p>\n",
       "</div>"
      ],
      "text/plain": [
       "          000  13  14  1849  1854  1858  1860  1865  19  1940  ...  wilkes  \\\n",
       "category                                                       ...           \n",
       "kennedy     0   0   0     0     0     0     0     0   0     1  ...       0   \n",
       "lincoln     0   0   1     1     1     1     1     1   0     0  ...       1   \n",
       "trump       1   2   0     0     0     0     0     0   1     0  ...       0   \n",
       "\n",
       "          with  withdrew  without  won  working  world  year  york  youth  \n",
       "category                                                                   \n",
       "kennedy      4         0        0    1        1      1     1     0      1  \n",
       "lincoln      4         0        0    0        0      0     0     0      0  \n",
       "trump        4         1        1    0        0      0     0     1      0  \n",
       "\n",
       "[3 rows x 722 columns]"
      ]
     },
     "metadata": {},
     "output_type": "display_data"
    }
   ],
   "source": [
    "Xbow = pd.DataFrame(X_train_bow.toarray(), \n",
    "                    index=y_train, columns=vocab)\n",
    "display(Xbow)"
   ]
  },
  {
   "cell_type": "code",
   "execution_count": 9,
   "id": "confidential-shield",
   "metadata": {},
   "outputs": [
    {
     "name": "stdout",
     "output_type": "stream",
     "text": [
      "['kennedy' 'lincoln' 'trump']\n",
      "Train accuracy: 1.0\n"
     ]
    }
   ],
   "source": [
    "model = MultinomialNB(alpha=1.0, class_prior=[15/50,10/50,25/50])\n",
    "model.fit(X_train_bow, y_train)\n",
    "print(model.classes_)\n",
    "train_score = model.score(X_train_bow, y_train)\n",
    "print('Train accuracy:', train_score)"
   ]
  },
  {
   "cell_type": "code",
   "execution_count": 10,
   "id": "recorded-gossip",
   "metadata": {},
   "outputs": [
    {
     "name": "stdout",
     "output_type": "stream",
     "text": [
      "Prediction:\n"
     ]
    },
    {
     "data": {
      "text/html": [
       "<div>\n",
       "<style scoped>\n",
       "    .dataframe tbody tr th:only-of-type {\n",
       "        vertical-align: middle;\n",
       "    }\n",
       "\n",
       "    .dataframe tbody tr th {\n",
       "        vertical-align: top;\n",
       "    }\n",
       "\n",
       "    .dataframe thead th {\n",
       "        text-align: right;\n",
       "    }\n",
       "</style>\n",
       "<table border=\"1\" class=\"dataframe\">\n",
       "  <thead>\n",
       "    <tr style=\"text-align: right;\">\n",
       "      <th></th>\n",
       "      <th>kennedy</th>\n",
       "      <th>lincoln</th>\n",
       "      <th>trump</th>\n",
       "    </tr>\n",
       "  </thead>\n",
       "  <tbody>\n",
       "    <tr>\n",
       "      <th>0</th>\n",
       "      <td>0.124766</td>\n",
       "      <td>0.844522</td>\n",
       "      <td>0.030712</td>\n",
       "    </tr>\n",
       "  </tbody>\n",
       "</table>\n",
       "</div>"
      ],
      "text/plain": [
       "    kennedy   lincoln     trump\n",
       "0  0.124766  0.844522  0.030712"
      ]
     },
     "metadata": {},
     "output_type": "display_data"
    },
    {
     "name": "stdout",
     "output_type": "stream",
     "text": [
      "['lincoln']\n"
     ]
    }
   ],
   "source": [
    "proba = model.predict_proba(X_test_bow)\n",
    "results = pd.DataFrame(proba, columns=model.classes_)\n",
    "print('Prediction:')\n",
    "display(results)\n",
    "print(model.predict(X_test_bow))"
   ]
  },
  {
   "cell_type": "code",
   "execution_count": null,
   "id": "worldwide-residence",
   "metadata": {},
   "outputs": [],
   "source": []
  }
 ],
 "metadata": {
  "kernelspec": {
   "display_name": "Python 3",
   "language": "python",
   "name": "python3"
  },
  "language_info": {
   "codemirror_mode": {
    "name": "ipython",
    "version": 3
   },
   "file_extension": ".py",
   "mimetype": "text/x-python",
   "name": "python",
   "nbconvert_exporter": "python",
   "pygments_lexer": "ipython3",
   "version": "3.8.8"
  }
 },
 "nbformat": 4,
 "nbformat_minor": 5
}
