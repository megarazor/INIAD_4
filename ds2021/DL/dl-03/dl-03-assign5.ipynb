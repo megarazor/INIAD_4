{
 "cells": [
  {
   "cell_type": "code",
   "execution_count": 10,
   "id": "provincial-publicity",
   "metadata": {},
   "outputs": [],
   "source": [
    "import numpy as np"
   ]
  },
  {
   "cell_type": "code",
   "execution_count": 11,
   "id": "hired-brazil",
   "metadata": {},
   "outputs": [],
   "source": [
    "def fold_with_overlap(x):\n",
    "    width= 4\n",
    "    overlap= 2\n",
    "    res= []\n",
    "    i= 0\n",
    "    for i in range(0, len(x), overlap):\n",
    "        if i + width > len(x):\n",
    "            break\n",
    "        line= []\n",
    "        for j in range(i, i + width):\n",
    "            line.append(x[j])\n",
    "        res.append(line)\n",
    "    return res"
   ]
  },
  {
   "cell_type": "code",
   "execution_count": 12,
   "id": "dress-battlefield",
   "metadata": {},
   "outputs": [
    {
     "name": "stdout",
     "output_type": "stream",
     "text": [
      "[[0, 1, 2, 3], [2, 3, 4, 5], [4, 5, 6, 7]]\n"
     ]
    }
   ],
   "source": [
    "a= np.array(range(0, 8))\n",
    "b= fold_with_overlap(a)\n",
    "print(b)"
   ]
  },
  {
   "cell_type": "code",
   "execution_count": null,
   "id": "accomplished-subcommittee",
   "metadata": {},
   "outputs": [],
   "source": []
  }
 ],
 "metadata": {
  "kernelspec": {
   "display_name": "Python 3",
   "language": "python",
   "name": "python3"
  },
  "language_info": {
   "codemirror_mode": {
    "name": "ipython",
    "version": 3
   },
   "file_extension": ".py",
   "mimetype": "text/x-python",
   "name": "python",
   "nbconvert_exporter": "python",
   "pygments_lexer": "ipython3",
   "version": "3.8.8"
  }
 },
 "nbformat": 4,
 "nbformat_minor": 5
}
