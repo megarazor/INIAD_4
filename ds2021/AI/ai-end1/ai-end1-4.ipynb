{
 "cells": [
  {
   "cell_type": "markdown",
   "metadata": {},
   "source": [
    "### Sample program for grid search of hyper parameters  "
   ]
  },
  {
   "cell_type": "markdown",
   "metadata": {},
   "source": [
    "#### Import libraries  "
   ]
  },
  {
   "cell_type": "code",
   "execution_count": 14,
   "metadata": {},
   "outputs": [],
   "source": [
    "import numpy as np\n",
    "import pandas as pd\n",
    "import matplotlib.pyplot as plt\n",
    "from sklearn.ensemble import RandomForestClassifier\n",
    "from sklearn.ensemble import RandomForestRegressor\n",
    "from sklearn.model_selection import GridSearchCV, KFold, cross_val_score"
   ]
  },
  {
   "cell_type": "code",
   "execution_count": 15,
   "metadata": {},
   "outputs": [],
   "source": [
    "csv_in = 'ai-end1-4.csv'"
   ]
  },
  {
   "cell_type": "code",
   "execution_count": 16,
   "metadata": {},
   "outputs": [
    {
     "name": "stdout",
     "output_type": "stream",
     "text": [
      "(301, 11)\n",
      "<class 'pandas.core.frame.DataFrame'>\n",
      "RangeIndex: 301 entries, 0 to 300\n",
      "Data columns (total 11 columns):\n",
      " #   Column   Non-Null Count  Dtype  \n",
      "---  ------   --------------  -----  \n",
      " 0   age      301 non-null    float64\n",
      " 1   sex      301 non-null    float64\n",
      " 2   bmi      301 non-null    float64\n",
      " 3   bp       301 non-null    float64\n",
      " 4   s1       301 non-null    float64\n",
      " 5   s2       301 non-null    float64\n",
      " 6   s3       301 non-null    float64\n",
      " 7   s4       301 non-null    float64\n",
      " 8   s5       301 non-null    float64\n",
      " 9   s6       301 non-null    float64\n",
      " 10  disease  301 non-null    float64\n",
      "dtypes: float64(11)\n",
      "memory usage: 26.0 KB\n",
      "None\n"
     ]
    },
    {
     "data": {
      "text/html": [
       "<div>\n",
       "<style scoped>\n",
       "    .dataframe tbody tr th:only-of-type {\n",
       "        vertical-align: middle;\n",
       "    }\n",
       "\n",
       "    .dataframe tbody tr th {\n",
       "        vertical-align: top;\n",
       "    }\n",
       "\n",
       "    .dataframe thead th {\n",
       "        text-align: right;\n",
       "    }\n",
       "</style>\n",
       "<table border=\"1\" class=\"dataframe\">\n",
       "  <thead>\n",
       "    <tr style=\"text-align: right;\">\n",
       "      <th></th>\n",
       "      <th>age</th>\n",
       "      <th>sex</th>\n",
       "      <th>bmi</th>\n",
       "      <th>bp</th>\n",
       "      <th>s1</th>\n",
       "      <th>s2</th>\n",
       "      <th>s3</th>\n",
       "      <th>s4</th>\n",
       "      <th>s5</th>\n",
       "      <th>s6</th>\n",
       "      <th>disease</th>\n",
       "    </tr>\n",
       "  </thead>\n",
       "  <tbody>\n",
       "    <tr>\n",
       "      <th>0</th>\n",
       "      <td>-0.041840</td>\n",
       "      <td>-0.044642</td>\n",
       "      <td>0.128521</td>\n",
       "      <td>0.063187</td>\n",
       "      <td>-0.033216</td>\n",
       "      <td>-0.032629</td>\n",
       "      <td>0.011824</td>\n",
       "      <td>-0.039493</td>\n",
       "      <td>-0.015998</td>\n",
       "      <td>-0.050783</td>\n",
       "      <td>259.0</td>\n",
       "    </tr>\n",
       "    <tr>\n",
       "      <th>1</th>\n",
       "      <td>-0.034575</td>\n",
       "      <td>-0.044642</td>\n",
       "      <td>-0.037463</td>\n",
       "      <td>-0.060757</td>\n",
       "      <td>0.020446</td>\n",
       "      <td>0.043466</td>\n",
       "      <td>-0.013948</td>\n",
       "      <td>-0.002592</td>\n",
       "      <td>-0.030751</td>\n",
       "      <td>-0.071494</td>\n",
       "      <td>128.0</td>\n",
       "    </tr>\n",
       "    <tr>\n",
       "      <th>2</th>\n",
       "      <td>0.009016</td>\n",
       "      <td>0.050680</td>\n",
       "      <td>-0.005128</td>\n",
       "      <td>-0.064199</td>\n",
       "      <td>0.069981</td>\n",
       "      <td>0.083863</td>\n",
       "      <td>-0.039719</td>\n",
       "      <td>0.071210</td>\n",
       "      <td>0.039540</td>\n",
       "      <td>0.019633</td>\n",
       "      <td>116.0</td>\n",
       "    </tr>\n",
       "    <tr>\n",
       "      <th>3</th>\n",
       "      <td>0.001751</td>\n",
       "      <td>0.050680</td>\n",
       "      <td>0.026128</td>\n",
       "      <td>-0.009113</td>\n",
       "      <td>0.024574</td>\n",
       "      <td>0.038456</td>\n",
       "      <td>-0.021311</td>\n",
       "      <td>0.034309</td>\n",
       "      <td>0.009436</td>\n",
       "      <td>0.003064</td>\n",
       "      <td>196.0</td>\n",
       "    </tr>\n",
       "    <tr>\n",
       "      <th>4</th>\n",
       "      <td>0.016281</td>\n",
       "      <td>0.050680</td>\n",
       "      <td>0.014272</td>\n",
       "      <td>0.001215</td>\n",
       "      <td>0.001183</td>\n",
       "      <td>-0.021355</td>\n",
       "      <td>-0.032356</td>\n",
       "      <td>0.034309</td>\n",
       "      <td>0.074968</td>\n",
       "      <td>0.040343</td>\n",
       "      <td>220.0</td>\n",
       "    </tr>\n",
       "  </tbody>\n",
       "</table>\n",
       "</div>"
      ],
      "text/plain": [
       "        age       sex       bmi        bp        s1        s2        s3  \\\n",
       "0 -0.041840 -0.044642  0.128521  0.063187 -0.033216 -0.032629  0.011824   \n",
       "1 -0.034575 -0.044642 -0.037463 -0.060757  0.020446  0.043466 -0.013948   \n",
       "2  0.009016  0.050680 -0.005128 -0.064199  0.069981  0.083863 -0.039719   \n",
       "3  0.001751  0.050680  0.026128 -0.009113  0.024574  0.038456 -0.021311   \n",
       "4  0.016281  0.050680  0.014272  0.001215  0.001183 -0.021355 -0.032356   \n",
       "\n",
       "         s4        s5        s6  disease  \n",
       "0 -0.039493 -0.015998 -0.050783    259.0  \n",
       "1 -0.002592 -0.030751 -0.071494    128.0  \n",
       "2  0.071210  0.039540  0.019633    116.0  \n",
       "3  0.034309  0.009436  0.003064    196.0  \n",
       "4  0.034309  0.074968  0.040343    220.0  "
      ]
     },
     "metadata": {},
     "output_type": "display_data"
    }
   ],
   "source": [
    "df = pd.read_csv(csv_in, delimiter=',', skiprows=0, header=0)\n",
    "print(df.shape)\n",
    "print(df.info())\n",
    "display(df.head())"
   ]
  },
  {
   "cell_type": "code",
   "execution_count": 17,
   "metadata": {},
   "outputs": [
    {
     "name": "stdout",
     "output_type": "stream",
     "text": [
      "X: (301, 10)\n"
     ]
    },
    {
     "data": {
      "text/html": [
       "<div>\n",
       "<style scoped>\n",
       "    .dataframe tbody tr th:only-of-type {\n",
       "        vertical-align: middle;\n",
       "    }\n",
       "\n",
       "    .dataframe tbody tr th {\n",
       "        vertical-align: top;\n",
       "    }\n",
       "\n",
       "    .dataframe thead th {\n",
       "        text-align: right;\n",
       "    }\n",
       "</style>\n",
       "<table border=\"1\" class=\"dataframe\">\n",
       "  <thead>\n",
       "    <tr style=\"text-align: right;\">\n",
       "      <th></th>\n",
       "      <th>age</th>\n",
       "      <th>sex</th>\n",
       "      <th>bmi</th>\n",
       "      <th>bp</th>\n",
       "      <th>s1</th>\n",
       "      <th>s2</th>\n",
       "      <th>s3</th>\n",
       "      <th>s4</th>\n",
       "      <th>s5</th>\n",
       "      <th>s6</th>\n",
       "    </tr>\n",
       "  </thead>\n",
       "  <tbody>\n",
       "    <tr>\n",
       "      <th>0</th>\n",
       "      <td>-0.041840</td>\n",
       "      <td>-0.044642</td>\n",
       "      <td>0.128521</td>\n",
       "      <td>0.063187</td>\n",
       "      <td>-0.033216</td>\n",
       "      <td>-0.032629</td>\n",
       "      <td>0.011824</td>\n",
       "      <td>-0.039493</td>\n",
       "      <td>-0.015998</td>\n",
       "      <td>-0.050783</td>\n",
       "    </tr>\n",
       "    <tr>\n",
       "      <th>1</th>\n",
       "      <td>-0.034575</td>\n",
       "      <td>-0.044642</td>\n",
       "      <td>-0.037463</td>\n",
       "      <td>-0.060757</td>\n",
       "      <td>0.020446</td>\n",
       "      <td>0.043466</td>\n",
       "      <td>-0.013948</td>\n",
       "      <td>-0.002592</td>\n",
       "      <td>-0.030751</td>\n",
       "      <td>-0.071494</td>\n",
       "    </tr>\n",
       "    <tr>\n",
       "      <th>2</th>\n",
       "      <td>0.009016</td>\n",
       "      <td>0.050680</td>\n",
       "      <td>-0.005128</td>\n",
       "      <td>-0.064199</td>\n",
       "      <td>0.069981</td>\n",
       "      <td>0.083863</td>\n",
       "      <td>-0.039719</td>\n",
       "      <td>0.071210</td>\n",
       "      <td>0.039540</td>\n",
       "      <td>0.019633</td>\n",
       "    </tr>\n",
       "    <tr>\n",
       "      <th>3</th>\n",
       "      <td>0.001751</td>\n",
       "      <td>0.050680</td>\n",
       "      <td>0.026128</td>\n",
       "      <td>-0.009113</td>\n",
       "      <td>0.024574</td>\n",
       "      <td>0.038456</td>\n",
       "      <td>-0.021311</td>\n",
       "      <td>0.034309</td>\n",
       "      <td>0.009436</td>\n",
       "      <td>0.003064</td>\n",
       "    </tr>\n",
       "    <tr>\n",
       "      <th>4</th>\n",
       "      <td>0.016281</td>\n",
       "      <td>0.050680</td>\n",
       "      <td>0.014272</td>\n",
       "      <td>0.001215</td>\n",
       "      <td>0.001183</td>\n",
       "      <td>-0.021355</td>\n",
       "      <td>-0.032356</td>\n",
       "      <td>0.034309</td>\n",
       "      <td>0.074968</td>\n",
       "      <td>0.040343</td>\n",
       "    </tr>\n",
       "  </tbody>\n",
       "</table>\n",
       "</div>"
      ],
      "text/plain": [
       "        age       sex       bmi        bp        s1        s2        s3  \\\n",
       "0 -0.041840 -0.044642  0.128521  0.063187 -0.033216 -0.032629  0.011824   \n",
       "1 -0.034575 -0.044642 -0.037463 -0.060757  0.020446  0.043466 -0.013948   \n",
       "2  0.009016  0.050680 -0.005128 -0.064199  0.069981  0.083863 -0.039719   \n",
       "3  0.001751  0.050680  0.026128 -0.009113  0.024574  0.038456 -0.021311   \n",
       "4  0.016281  0.050680  0.014272  0.001215  0.001183 -0.021355 -0.032356   \n",
       "\n",
       "         s4        s5        s6  \n",
       "0 -0.039493 -0.015998 -0.050783  \n",
       "1 -0.002592 -0.030751 -0.071494  \n",
       "2  0.071210  0.039540  0.019633  \n",
       "3  0.034309  0.009436  0.003064  \n",
       "4  0.034309  0.074968  0.040343  "
      ]
     },
     "metadata": {},
     "output_type": "display_data"
    },
    {
     "name": "stdout",
     "output_type": "stream",
     "text": [
      "y: (301,)\n",
      "0    259.0\n",
      "1    128.0\n",
      "2    116.0\n",
      "3    196.0\n",
      "4    220.0\n",
      "Name: disease, dtype: float64\n"
     ]
    }
   ],
   "source": [
    "X = df.loc[:, :'s6']\n",
    "y = df['disease']\n",
    "print('X:', X.shape)\n",
    "display(X.head())\n",
    "print('y:', y.shape)\n",
    "print(y.head())"
   ]
  },
  {
   "cell_type": "code",
   "execution_count": 18,
   "metadata": {},
   "outputs": [],
   "source": [
    "rfr=RandomForestRegressor(random_state=12)            \n",
    "\n",
    "# Hyperparameter settings for grid search\n",
    "param_grid = {\n",
    "    'n_estimators': [10, 50, 100],\n",
    "    'max_depth' : [2, 4, 6, None],\n",
    "}"
   ]
  },
  {
   "cell_type": "code",
   "execution_count": 19,
   "metadata": {},
   "outputs": [],
   "source": [
    "grid_cv = KFold(n_splits=4, shuffle=True, random_state=7)  # for grid search\n",
    "gen_cv = KFold(n_splits=4, shuffle=True, random_state=12)  # for estimation of generalization performance"
   ]
  },
  {
   "cell_type": "code",
   "execution_count": 20,
   "metadata": {},
   "outputs": [],
   "source": [
    "gs = GridSearchCV(rfr, param_grid , cv=grid_cv, scoring='neg_mean_squared_error')"
   ]
  },
  {
   "cell_type": "code",
   "execution_count": 21,
   "metadata": {},
   "outputs": [
    {
     "name": "stdout",
     "output_type": "stream",
     "text": [
      "[-3790.8444664  -2868.76121496 -3418.89170284 -2853.43466405]\n",
      "56.85932651785534\n",
      "Wall time: 11.2 s\n"
     ]
    }
   ],
   "source": [
    "%%time\n",
    "nested_score = cross_val_score(gs, X=X, y=y, cv=gen_cv,\n",
    "                               scoring='neg_mean_squared_error')\n",
    "print(nested_score)\n",
    "print(np.sqrt(-nested_score.mean()))"
   ]
  },
  {
   "cell_type": "code",
   "execution_count": 22,
   "metadata": {},
   "outputs": [
    {
     "name": "stdout",
     "output_type": "stream",
     "text": [
      "Wall time: 2.95 s\n"
     ]
    }
   ],
   "source": [
    "%%time\n",
    "gs.fit(X, y)\n",
    "gs_best = gs.best_estimator_"
   ]
  },
  {
   "cell_type": "code",
   "execution_count": 23,
   "metadata": {},
   "outputs": [
    {
     "name": "stdout",
     "output_type": "stream",
     "text": [
      "RandomForestRegressor(max_depth=4, n_estimators=50, random_state=12)\n"
     ]
    }
   ],
   "source": [
    "print(gs_best)"
   ]
  },
  {
   "cell_type": "code",
   "execution_count": 24,
   "metadata": {},
   "outputs": [
    {
     "name": "stdout",
     "output_type": "stream",
     "text": [
      "age    0.035387\n",
      "sex    0.002552\n",
      "bmi    0.370686\n",
      "bp     0.073733\n",
      "s1     0.014748\n",
      "s2     0.024142\n",
      "s3     0.016405\n",
      "s4     0.008088\n",
      "s5     0.398985\n",
      "s6     0.055275\n",
      "dtype: float64\n"
     ]
    }
   ],
   "source": [
    "print(pd.Series(gs_best.feature_importances_, index=X.columns))"
   ]
  },
  {
   "cell_type": "code",
   "execution_count": 25,
   "metadata": {},
   "outputs": [
    {
     "data": {
      "image/png": "[encoded data removed]",
      "text/plain": [
       "<Figure size 432x288 with 1 Axes>"
      ]
     },
     "metadata": {
      "needs_background": "light"
     },
     "output_type": "display_data"
    }
   ],
   "source": [
    "plt.bar(X.columns, gs_best.feature_importances_)\n",
    "plt.ylabel('Importance')\n",
    "plt.xticks(rotation=90)\n",
    "plt.show()"
   ]
  },
  {
   "cell_type": "code",
   "execution_count": null,
   "metadata": {},
   "outputs": [],
   "source": []
  }
 ],
 "metadata": {
  "kernelspec": {
   "display_name": "Python 3",
   "language": "python",
   "name": "python3"
  },
  "language_info": {
   "codemirror_mode": {
    "name": "ipython",
    "version": 3
   },
   "file_extension": ".py",
   "mimetype": "text/x-python",
   "name": "python",
   "nbconvert_exporter": "python",
   "pygments_lexer": "ipython3",
   "version": "3.8.8"
  }
 },
 "nbformat": 4,
 "nbformat_minor": 4
}
