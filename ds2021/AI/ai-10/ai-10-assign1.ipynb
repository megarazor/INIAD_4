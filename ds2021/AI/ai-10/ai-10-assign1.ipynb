{
 "cells": [
  {
   "cell_type": "code",
   "execution_count": 88,
   "id": "unsigned-description",
   "metadata": {},
   "outputs": [],
   "source": [
    "import numpy as np\n",
    "import pandas as pd\n",
    "import matplotlib.pyplot as plt\n",
    "from sklearn.svm import SVR, SVC\n",
    "from sklearn.preprocessing import MinMaxScaler\n",
    "from sklearn.model_selection import GridSearchCV, KFold, StratifiedKFold, cross_val_score, train_test_split\n",
    "from sklearn.pipeline import Pipeline\n",
    "from joblib import dump\n",
    "from sklearn.metrics import accuracy_score\n",
    "from sklearn import datasets"
   ]
  },
  {
   "cell_type": "code",
   "execution_count": 89,
   "id": "continuous-cigarette",
   "metadata": {},
   "outputs": [
    {
     "name": "stdout",
     "output_type": "stream",
     "text": [
      "(1797, 64)\n",
      "(1797,)\n"
     ]
    }
   ],
   "source": [
    "digits_img = datasets.load_digits(n_class=10)\n",
    "X = digits_img.data\n",
    "y = digits_img.target\n",
    "print(X.shape)\n",
    "print(y.shape)"
   ]
  },
  {
   "cell_type": "code",
   "execution_count": 90,
   "id": "buried-parcel",
   "metadata": {},
   "outputs": [],
   "source": [
    "pipe = Pipeline([('scaler', MinMaxScaler(feature_range=(0, 1), copy=True)),\n",
    "                 ('svr', SVR(kernel='rbf'))])\n",
    "\n",
    "C_grid = [1e0, 1e1, 1e2, 1e3]\n",
    "g_grid = ['scale', 1e-2, 1e-1, 1e0]\n",
    "e_grid = [0.01, 0.1, 1.0, 10.0]\n",
    "\n",
    "# Hyper paramet settings for grid search\n",
    "param_grid = {\n",
    "    'svr__C': C_grid,\n",
    "    'svr__gamma' : g_grid,\n",
    "    'svr__epsilon' : e_grid,\n",
    "}"
   ]
  },
  {
   "cell_type": "code",
   "execution_count": 91,
   "id": "early-commissioner",
   "metadata": {},
   "outputs": [],
   "source": [
    "grid_cv = StratifiedKFold(n_splits=4, shuffle=True, random_state=13)  # for grid search\n",
    "gen_cv = StratifiedKFold(n_splits=4, shuffle=True, random_state=17)  # for estimation of generalization performance"
   ]
  },
  {
   "cell_type": "code",
   "execution_count": 92,
   "id": "attached-habitat",
   "metadata": {},
   "outputs": [],
   "source": [
    "gs = GridSearchCV(pipe, param_grid , cv=grid_cv, scoring='neg_mean_squared_error')\n"
   ]
  },
  {
   "cell_type": "code",
   "execution_count": 93,
   "id": "pressed-columbus",
   "metadata": {},
   "outputs": [
    {
     "name": "stdout",
     "output_type": "stream",
     "text": [
      "[-0.56797658 -0.57361861 -0.52468216 -0.44417923]\n",
      "0.7263705278421325\n",
      "Wall time: 2min 25s\n"
     ]
    }
   ],
   "source": [
    "%%time\n",
    "nested_score = cross_val_score(gs, X=X, y=y, cv=gen_cv,\n",
    "                               scoring='neg_mean_squared_error')\n",
    "print(nested_score)\n",
    "print(np.sqrt(-nested_score.mean()))"
   ]
  },
  {
   "cell_type": "code",
   "execution_count": 94,
   "id": "skilled-arabic",
   "metadata": {},
   "outputs": [
    {
     "name": "stdout",
     "output_type": "stream",
     "text": [
      "Wall time: 1min 6s\n"
     ]
    }
   ],
   "source": [
    "%%time\n",
    "gs.fit(X, y)\n",
    "gs_best = gs.best_estimator_"
   ]
  },
  {
   "cell_type": "code",
   "execution_count": 95,
   "id": "dress-impossible",
   "metadata": {},
   "outputs": [
    {
     "name": "stdout",
     "output_type": "stream",
     "text": [
      "Pipeline(steps=[('scaler', MinMaxScaler()),\n",
      "                ('svr', SVR(C=100.0, epsilon=0.01))])\n"
     ]
    }
   ],
   "source": [
    "print(gs_best)"
   ]
  },
  {
   "cell_type": "code",
   "execution_count": 96,
   "id": "prerequisite-communist",
   "metadata": {},
   "outputs": [
    {
     "data": {
      "text/plain": [
       "['svc_best_ai-10-assign1.joblib']"
      ]
     },
     "execution_count": 96,
     "metadata": {},
     "output_type": "execute_result"
    }
   ],
   "source": [
    "tag = 'ai-10-assign1'\n",
    "model_file = 'svc_best_{}.joblib'.format(tag)\n",
    "dump(gs_best, model_file)"
   ]
  },
  {
   "cell_type": "code",
   "execution_count": null,
   "id": "lucky-hands",
   "metadata": {},
   "outputs": [],
   "source": []
  }
 ],
 "metadata": {
  "kernelspec": {
   "display_name": "Python 3",
   "language": "python",
   "name": "python3"
  },
  "language_info": {
   "codemirror_mode": {
    "name": "ipython",
    "version": 3
   },
   "file_extension": ".py",
   "mimetype": "text/x-python",
   "name": "python",
   "nbconvert_exporter": "python",
   "pygments_lexer": "ipython3",
   "version": "3.8.8"
  }
 },
 "nbformat": 4,
 "nbformat_minor": 5
}
