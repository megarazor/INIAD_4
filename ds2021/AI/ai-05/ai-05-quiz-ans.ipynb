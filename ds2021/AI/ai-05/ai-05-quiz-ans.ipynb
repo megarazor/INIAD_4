{
 "cells": [
  {
   "cell_type": "markdown",
   "metadata": {},
   "source": [
    "### AI-05 Quiz  "
   ]
  },
  {
   "cell_type": "markdown",
   "metadata": {},
   "source": [
    "#### Import libraries  "
   ]
  },
  {
   "cell_type": "code",
   "execution_count": 15,
   "metadata": {},
   "outputs": [],
   "source": [
    "import pandas as pd\n",
    "import statsmodels.api as sm\n",
    "from sklearn import preprocessing"
   ]
  },
  {
   "cell_type": "markdown",
   "metadata": {},
   "source": [
    "#### Read CSV file  "
   ]
  },
  {
   "cell_type": "code",
   "execution_count": 16,
   "metadata": {},
   "outputs": [
    {
     "name": "stdout",
     "output_type": "stream",
     "text": [
      "(50, 5)\n",
      "<class 'pandas.core.frame.DataFrame'>\n",
      "RangeIndex: 50 entries, 0 to 49\n",
      "Data columns (total 5 columns):\n",
      " #   Column  Non-Null Count  Dtype  \n",
      "---  ------  --------------  -----  \n",
      " 0   x1      50 non-null     float64\n",
      " 1   x2      50 non-null     float64\n",
      " 2   x3      50 non-null     float64\n",
      " 3   x4      50 non-null     float64\n",
      " 4   y       50 non-null     float64\n",
      "dtypes: float64(5)\n",
      "memory usage: 2.1 KB\n",
      "None\n"
     ]
    },
    {
     "data": {
      "text/html": [
       "<div>\n",
       "<style scoped>\n",
       "    .dataframe tbody tr th:only-of-type {\n",
       "        vertical-align: middle;\n",
       "    }\n",
       "\n",
       "    .dataframe tbody tr th {\n",
       "        vertical-align: top;\n",
       "    }\n",
       "\n",
       "    .dataframe thead th {\n",
       "        text-align: right;\n",
       "    }\n",
       "</style>\n",
       "<table border=\"1\" class=\"dataframe\">\n",
       "  <thead>\n",
       "    <tr style=\"text-align: right;\">\n",
       "      <th></th>\n",
       "      <th>x1</th>\n",
       "      <th>x2</th>\n",
       "      <th>x3</th>\n",
       "      <th>x4</th>\n",
       "      <th>y</th>\n",
       "    </tr>\n",
       "  </thead>\n",
       "  <tbody>\n",
       "    <tr>\n",
       "      <th>0</th>\n",
       "      <td>6.7</td>\n",
       "      <td>3.1</td>\n",
       "      <td>3.1</td>\n",
       "      <td>3.6</td>\n",
       "      <td>-17.3</td>\n",
       "    </tr>\n",
       "    <tr>\n",
       "      <th>1</th>\n",
       "      <td>4.8</td>\n",
       "      <td>3.4</td>\n",
       "      <td>9.1</td>\n",
       "      <td>2.0</td>\n",
       "      <td>27.7</td>\n",
       "    </tr>\n",
       "    <tr>\n",
       "      <th>2</th>\n",
       "      <td>4.4</td>\n",
       "      <td>3.7</td>\n",
       "      <td>4.5</td>\n",
       "      <td>1.0</td>\n",
       "      <td>3.5</td>\n",
       "    </tr>\n",
       "    <tr>\n",
       "      <th>3</th>\n",
       "      <td>5.7</td>\n",
       "      <td>3.8</td>\n",
       "      <td>3.2</td>\n",
       "      <td>0.7</td>\n",
       "      <td>14.8</td>\n",
       "    </tr>\n",
       "    <tr>\n",
       "      <th>4</th>\n",
       "      <td>5.3</td>\n",
       "      <td>0.9</td>\n",
       "      <td>8.0</td>\n",
       "      <td>2.6</td>\n",
       "      <td>12.8</td>\n",
       "    </tr>\n",
       "  </tbody>\n",
       "</table>\n",
       "</div>"
      ],
      "text/plain": [
       "    x1   x2   x3   x4     y\n",
       "0  6.7  3.1  3.1  3.6 -17.3\n",
       "1  4.8  3.4  9.1  2.0  27.7\n",
       "2  4.4  3.7  4.5  1.0   3.5\n",
       "3  5.7  3.8  3.2  0.7  14.8\n",
       "4  5.3  0.9  8.0  2.6  12.8"
      ]
     },
     "metadata": {},
     "output_type": "display_data"
    }
   ],
   "source": [
    "csv_in = 'reg1.csv'\n",
    "df = pd.read_csv(csv_in, delimiter=',', skiprows=0, header=0)\n",
    "print(df.shape)\n",
    "print(df.info())\n",
    "display(df.head())"
   ]
  },
  {
   "cell_type": "markdown",
   "metadata": {},
   "source": [
    "#### Separate explanatory variables and objective variable  \n",
    "説明変数と目的変数を分ける  "
   ]
  },
  {
   "cell_type": "code",
   "execution_count": 17,
   "metadata": {},
   "outputs": [
    {
     "name": "stdout",
     "output_type": "stream",
     "text": [
      "X: (50, 4)\n"
     ]
    },
    {
     "data": {
      "text/html": [
       "<div>\n",
       "<style scoped>\n",
       "    .dataframe tbody tr th:only-of-type {\n",
       "        vertical-align: middle;\n",
       "    }\n",
       "\n",
       "    .dataframe tbody tr th {\n",
       "        vertical-align: top;\n",
       "    }\n",
       "\n",
       "    .dataframe thead th {\n",
       "        text-align: right;\n",
       "    }\n",
       "</style>\n",
       "<table border=\"1\" class=\"dataframe\">\n",
       "  <thead>\n",
       "    <tr style=\"text-align: right;\">\n",
       "      <th></th>\n",
       "      <th>x1</th>\n",
       "      <th>x2</th>\n",
       "      <th>x3</th>\n",
       "      <th>x4</th>\n",
       "    </tr>\n",
       "  </thead>\n",
       "  <tbody>\n",
       "    <tr>\n",
       "      <th>0</th>\n",
       "      <td>6.7</td>\n",
       "      <td>3.1</td>\n",
       "      <td>3.1</td>\n",
       "      <td>3.6</td>\n",
       "    </tr>\n",
       "    <tr>\n",
       "      <th>1</th>\n",
       "      <td>4.8</td>\n",
       "      <td>3.4</td>\n",
       "      <td>9.1</td>\n",
       "      <td>2.0</td>\n",
       "    </tr>\n",
       "    <tr>\n",
       "      <th>2</th>\n",
       "      <td>4.4</td>\n",
       "      <td>3.7</td>\n",
       "      <td>4.5</td>\n",
       "      <td>1.0</td>\n",
       "    </tr>\n",
       "    <tr>\n",
       "      <th>3</th>\n",
       "      <td>5.7</td>\n",
       "      <td>3.8</td>\n",
       "      <td>3.2</td>\n",
       "      <td>0.7</td>\n",
       "    </tr>\n",
       "    <tr>\n",
       "      <th>4</th>\n",
       "      <td>5.3</td>\n",
       "      <td>0.9</td>\n",
       "      <td>8.0</td>\n",
       "      <td>2.6</td>\n",
       "    </tr>\n",
       "  </tbody>\n",
       "</table>\n",
       "</div>"
      ],
      "text/plain": [
       "    x1   x2   x3   x4\n",
       "0  6.7  3.1  3.1  3.6\n",
       "1  4.8  3.4  9.1  2.0\n",
       "2  4.4  3.7  4.5  1.0\n",
       "3  5.7  3.8  3.2  0.7\n",
       "4  5.3  0.9  8.0  2.6"
      ]
     },
     "metadata": {},
     "output_type": "display_data"
    },
    {
     "name": "stdout",
     "output_type": "stream",
     "text": [
      "y: (50,)\n",
      "0   -17.3\n",
      "1    27.7\n",
      "2     3.5\n",
      "3    14.8\n",
      "4    12.8\n",
      "Name: y, dtype: float64\n"
     ]
    }
   ],
   "source": [
    "X = df.loc[:, 'x1':'x4']  # explanatory variables\n",
    "y = df['y']  # objective variable\n",
    "print('X:', X.shape)\n",
    "display(X.head())\n",
    "print('y:', y.shape)\n",
    "print(y.head())"
   ]
  },
  {
   "cell_type": "markdown",
   "metadata": {},
   "source": [
    "#### MLR calculation using all variables  \n",
    "全説明変数を用いて、標準化なしで線形重回帰分析  "
   ]
  },
  {
   "cell_type": "code",
   "execution_count": 18,
   "metadata": {},
   "outputs": [
    {
     "name": "stdout",
     "output_type": "stream",
     "text": [
      "                            OLS Regression Results                            \n",
      "==============================================================================\n",
      "Dep. Variable:                      y   R-squared:                       0.854\n",
      "Model:                            OLS   Adj. R-squared:                  0.841\n",
      "Method:                 Least Squares   F-statistic:                     65.66\n",
      "Date:                Sat, 03 Apr 2021   Prob (F-statistic):           3.33e-18\n",
      "Time:                        23:20:39   Log-Likelihood:                -178.20\n",
      "No. Observations:                  50   AIC:                             366.4\n",
      "Df Residuals:                      45   BIC:                             376.0\n",
      "Df Model:                           4                                         \n",
      "Covariance Type:            nonrobust                                         \n",
      "==============================================================================\n",
      "                 coef    std err          t      P>|t|      [0.025      0.975]\n",
      "------------------------------------------------------------------------------\n",
      "const         19.1721      7.322      2.618      0.012       4.424      33.920\n",
      "x1            -5.2746      1.283     -4.111      0.000      -7.859      -2.691\n",
      "x2             1.5463      0.665      2.324      0.025       0.206       2.886\n",
      "x3             3.4891      0.394      8.857      0.000       2.696       4.283\n",
      "x4            -4.3932      0.381    -11.524      0.000      -5.161      -3.625\n",
      "==============================================================================\n",
      "Omnibus:                       10.925   Durbin-Watson:                   2.099\n",
      "Prob(Omnibus):                  0.004   Jarque-Bera (JB):                2.908\n",
      "Skew:                          -0.013   Prob(JB):                        0.234\n",
      "Kurtosis:                       1.819   Cond. No.                         44.0\n",
      "==============================================================================\n",
      "\n",
      "Notes:\n",
      "[1] Standard Errors assume that the covariance matrix of the errors is correctly specified.\n"
     ]
    }
   ],
   "source": [
    "X_c = sm.add_constant(X)\n",
    "model = sm.OLS(y, X_c)\n",
    "results = model.fit()\n",
    "print(results.summary())"
   ]
  },
  {
   "cell_type": "markdown",
   "metadata": {},
   "source": [
    "#### Adj R2 and partial regression coefficients   \n",
    "自由度調整済み決定係数と偏回帰係数  "
   ]
  },
  {
   "cell_type": "code",
   "execution_count": 19,
   "metadata": {},
   "outputs": [
    {
     "name": "stdout",
     "output_type": "stream",
     "text": [
      "Adj R2: 0.8407195895168194\n",
      "const    19.172142\n",
      "x1       -5.274581\n",
      "x2        1.546305\n",
      "x3        3.489137\n",
      "x4       -4.393240\n",
      "dtype: float64\n"
     ]
    }
   ],
   "source": [
    "print('Adj R2:', results.rsquared_adj)\n",
    "print(results.params)"
   ]
  },
  {
   "cell_type": "markdown",
   "metadata": {},
   "source": [
    "**Ans.1: Adj_R2:0.841 (Rather Good)**  \n",
    "**Ans.2: x2:1.55 (increased)**   "
   ]
  },
  {
   "cell_type": "markdown",
   "metadata": {},
   "source": [
    "#### Standardization of variables  \n",
    "Compare coefficients for explanatory variables  \n",
    "全説明変数と目的変数を標準化して線形重回帰分析  \n",
    "得られた標準化偏回帰係数を比較すると、各説明変数の目的変数に対する影響の大きさがわかる  "
   ]
  },
  {
   "cell_type": "code",
   "execution_count": 20,
   "metadata": {},
   "outputs": [
    {
     "name": "stdout",
     "output_type": "stream",
     "text": [
      "                                 OLS Regression Results                                \n",
      "=======================================================================================\n",
      "Dep. Variable:                      y   R-squared (uncentered):                   0.854\n",
      "Model:                            OLS   Adj. R-squared (uncentered):              0.841\n",
      "Method:                 Least Squares   F-statistic:                              67.12\n",
      "Date:                Sat, 03 Apr 2021   Prob (F-statistic):                    1.30e-18\n",
      "Time:                        23:20:39   Log-Likelihood:                         -22.891\n",
      "No. Observations:                  50   AIC:                                      53.78\n",
      "Df Residuals:                      46   BIC:                                      61.43\n",
      "Df Model:                           4                                                  \n",
      "Covariance Type:            nonrobust                                                  \n",
      "==============================================================================\n",
      "                 coef    std err          t      P>|t|      [0.025      0.975]\n",
      "------------------------------------------------------------------------------\n",
      "x1            -0.2367      0.057     -4.157      0.000      -0.351      -0.122\n",
      "x2             0.1336      0.057      2.350      0.023       0.019       0.248\n",
      "x3             0.5076      0.057      8.955      0.000       0.394       0.622\n",
      "x4            -0.6618      0.057    -11.651      0.000      -0.776      -0.547\n",
      "==============================================================================\n",
      "Omnibus:                       10.925   Durbin-Watson:                   2.099\n",
      "Prob(Omnibus):                  0.004   Jarque-Bera (JB):                2.908\n",
      "Skew:                          -0.013   Prob(JB):                        0.234\n",
      "Kurtosis:                       1.819   Cond. No.                         1.17\n",
      "==============================================================================\n",
      "\n",
      "Notes:\n",
      "[1] R² is computed without centering (uncentered) since the model does not contain a constant.\n",
      "[2] Standard Errors assume that the covariance matrix of the errors is correctly specified.\n"
     ]
    }
   ],
   "source": [
    "# NOTE: after scaling, X_scaled and Y_scaled are ndarray, not DataFrame.\n",
    "df_X_scaled = pd.DataFrame(preprocessing.scale(X), columns=X.columns)\n",
    "ser_y_scaled = pd.Series(preprocessing.scale(y), index=y.index)\n",
    "model_scaled = sm.OLS(ser_y_scaled, df_X_scaled)\n",
    "results_scaled = model_scaled.fit()\n",
    "print(results_scaled.summary())"
   ]
  },
  {
   "cell_type": "markdown",
   "metadata": {},
   "source": [
    "#### Partial regression coefficients   \n",
    "偏回帰係数  "
   ]
  },
  {
   "cell_type": "code",
   "execution_count": 21,
   "metadata": {},
   "outputs": [
    {
     "name": "stdout",
     "output_type": "stream",
     "text": [
      "x1   -0.236746\n",
      "x2    0.133598\n",
      "x3    0.507625\n",
      "x4   -0.661768\n",
      "dtype: float64\n"
     ]
    }
   ],
   "source": [
    "print(results_scaled.params)"
   ]
  },
  {
   "cell_type": "markdown",
   "metadata": {},
   "source": [
    "**Ans.3 x4**  \n",
    "**x4 (negative) > x3 (positive) > x1 (negative) > x2 (positive)**  "
   ]
  },
  {
   "cell_type": "code",
   "execution_count": null,
   "metadata": {},
   "outputs": [],
   "source": []
  }
 ],
 "metadata": {
  "kernelspec": {
   "display_name": "Python 3",
   "language": "python",
   "name": "python3"
  },
  "language_info": {
   "codemirror_mode": {
    "name": "ipython",
    "version": 3
   },
   "file_extension": ".py",
   "mimetype": "text/x-python",
   "name": "python",
   "nbconvert_exporter": "python",
   "pygments_lexer": "ipython3",
   "version": "3.8.8"
  }
 },
 "nbformat": 4,
 "nbformat_minor": 4
}
