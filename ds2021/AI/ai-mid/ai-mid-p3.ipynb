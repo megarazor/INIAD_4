{
 "cells": [
  {
   "cell_type": "code",
   "execution_count": 101,
   "id": "increased-gravity",
   "metadata": {},
   "outputs": [],
   "source": [
    "import sys\n",
    "import numpy as np\n",
    "import pandas as pd\n",
    "import seaborn as sns\n",
    "import matplotlib.pyplot as plt\n",
    "from sklearn import preprocessing\n",
    "import statsmodels.api as sm\n",
    "import statsmodels.formula.api as smf"
   ]
  },
  {
   "cell_type": "code",
   "execution_count": 102,
   "id": "original-circulation",
   "metadata": {},
   "outputs": [],
   "source": [
    "csv_in = 'ai-mid-p3.csv'"
   ]
  },
  {
   "cell_type": "code",
   "execution_count": 103,
   "id": "angry-relief",
   "metadata": {},
   "outputs": [
    {
     "name": "stdout",
     "output_type": "stream",
     "text": [
      "(300, 4)\n",
      "<class 'pandas.core.frame.DataFrame'>\n",
      "RangeIndex: 300 entries, 0 to 299\n",
      "Data columns (total 4 columns):\n",
      " #   Column  Non-Null Count  Dtype  \n",
      "---  ------  --------------  -----  \n",
      " 0   CRIM    300 non-null    float64\n",
      " 1   INDUS   300 non-null    float64\n",
      " 2   RM      300 non-null    float64\n",
      " 3   MEDV    300 non-null    float64\n",
      "dtypes: float64(4)\n",
      "memory usage: 9.5 KB\n",
      "None\n"
     ]
    },
    {
     "data": {
      "text/html": [
       "<div>\n",
       "<style scoped>\n",
       "    .dataframe tbody tr th:only-of-type {\n",
       "        vertical-align: middle;\n",
       "    }\n",
       "\n",
       "    .dataframe tbody tr th {\n",
       "        vertical-align: top;\n",
       "    }\n",
       "\n",
       "    .dataframe thead th {\n",
       "        text-align: right;\n",
       "    }\n",
       "</style>\n",
       "<table border=\"1\" class=\"dataframe\">\n",
       "  <thead>\n",
       "    <tr style=\"text-align: right;\">\n",
       "      <th></th>\n",
       "      <th>CRIM</th>\n",
       "      <th>INDUS</th>\n",
       "      <th>RM</th>\n",
       "      <th>MEDV</th>\n",
       "    </tr>\n",
       "  </thead>\n",
       "  <tbody>\n",
       "    <tr>\n",
       "      <th>0</th>\n",
       "      <td>0.00632</td>\n",
       "      <td>2.31</td>\n",
       "      <td>6.575</td>\n",
       "      <td>24.0</td>\n",
       "    </tr>\n",
       "    <tr>\n",
       "      <th>1</th>\n",
       "      <td>0.02731</td>\n",
       "      <td>7.07</td>\n",
       "      <td>6.421</td>\n",
       "      <td>21.6</td>\n",
       "    </tr>\n",
       "    <tr>\n",
       "      <th>2</th>\n",
       "      <td>0.02729</td>\n",
       "      <td>7.07</td>\n",
       "      <td>7.185</td>\n",
       "      <td>34.7</td>\n",
       "    </tr>\n",
       "    <tr>\n",
       "      <th>3</th>\n",
       "      <td>0.03237</td>\n",
       "      <td>2.18</td>\n",
       "      <td>6.998</td>\n",
       "      <td>33.4</td>\n",
       "    </tr>\n",
       "    <tr>\n",
       "      <th>4</th>\n",
       "      <td>0.06905</td>\n",
       "      <td>2.18</td>\n",
       "      <td>7.147</td>\n",
       "      <td>36.2</td>\n",
       "    </tr>\n",
       "  </tbody>\n",
       "</table>\n",
       "</div>"
      ],
      "text/plain": [
       "      CRIM  INDUS     RM  MEDV\n",
       "0  0.00632   2.31  6.575  24.0\n",
       "1  0.02731   7.07  6.421  21.6\n",
       "2  0.02729   7.07  7.185  34.7\n",
       "3  0.03237   2.18  6.998  33.4\n",
       "4  0.06905   2.18  7.147  36.2"
      ]
     },
     "metadata": {},
     "output_type": "display_data"
    }
   ],
   "source": [
    "df_all = pd.read_csv(csv_in, delimiter=';', skiprows=0, header=0)\n",
    "print(df_all.shape)\n",
    "print(df_all.info())\n",
    "display(df_all.head())"
   ]
  },
  {
   "cell_type": "code",
   "execution_count": 104,
   "id": "clear-preservation",
   "metadata": {},
   "outputs": [
    {
     "data": {
      "text/html": [
       "<div>\n",
       "<style scoped>\n",
       "    .dataframe tbody tr th:only-of-type {\n",
       "        vertical-align: middle;\n",
       "    }\n",
       "\n",
       "    .dataframe tbody tr th {\n",
       "        vertical-align: top;\n",
       "    }\n",
       "\n",
       "    .dataframe thead th {\n",
       "        text-align: right;\n",
       "    }\n",
       "</style>\n",
       "<table border=\"1\" class=\"dataframe\">\n",
       "  <thead>\n",
       "    <tr style=\"text-align: right;\">\n",
       "      <th></th>\n",
       "      <th>CRIM</th>\n",
       "      <th>INDUS</th>\n",
       "      <th>RM</th>\n",
       "      <th>MEDV</th>\n",
       "    </tr>\n",
       "  </thead>\n",
       "  <tbody>\n",
       "  </tbody>\n",
       "</table>\n",
       "</div>"
      ],
      "text/plain": [
       "Empty DataFrame\n",
       "Columns: [CRIM, INDUS, RM, MEDV]\n",
       "Index: []"
      ]
     },
     "metadata": {},
     "output_type": "display_data"
    }
   ],
   "source": [
    "display(df_all[df_all.isnull().any(axis=1)])"
   ]
  },
  {
   "cell_type": "code",
   "execution_count": 105,
   "id": "finite-premiere",
   "metadata": {},
   "outputs": [
    {
     "data": {
      "text/html": [
       "<div>\n",
       "<style scoped>\n",
       "    .dataframe tbody tr th:only-of-type {\n",
       "        vertical-align: middle;\n",
       "    }\n",
       "\n",
       "    .dataframe tbody tr th {\n",
       "        vertical-align: top;\n",
       "    }\n",
       "\n",
       "    .dataframe thead th {\n",
       "        text-align: right;\n",
       "    }\n",
       "</style>\n",
       "<table border=\"1\" class=\"dataframe\">\n",
       "  <thead>\n",
       "    <tr style=\"text-align: right;\">\n",
       "      <th></th>\n",
       "      <th>CRIM</th>\n",
       "      <th>INDUS</th>\n",
       "      <th>RM</th>\n",
       "      <th>MEDV</th>\n",
       "    </tr>\n",
       "  </thead>\n",
       "  <tbody>\n",
       "    <tr>\n",
       "      <th>CRIM</th>\n",
       "      <td>1.000000</td>\n",
       "      <td>0.549930</td>\n",
       "      <td>-0.228475</td>\n",
       "      <td>-0.211407</td>\n",
       "    </tr>\n",
       "    <tr>\n",
       "      <th>INDUS</th>\n",
       "      <td>0.549930</td>\n",
       "      <td>1.000000</td>\n",
       "      <td>-0.396249</td>\n",
       "      <td>-0.395860</td>\n",
       "    </tr>\n",
       "    <tr>\n",
       "      <th>RM</th>\n",
       "      <td>-0.228475</td>\n",
       "      <td>-0.396249</td>\n",
       "      <td>1.000000</td>\n",
       "      <td>0.898043</td>\n",
       "    </tr>\n",
       "    <tr>\n",
       "      <th>MEDV</th>\n",
       "      <td>-0.211407</td>\n",
       "      <td>-0.395860</td>\n",
       "      <td>0.898043</td>\n",
       "      <td>1.000000</td>\n",
       "    </tr>\n",
       "  </tbody>\n",
       "</table>\n",
       "</div>"
      ],
      "text/plain": [
       "           CRIM     INDUS        RM      MEDV\n",
       "CRIM   1.000000  0.549930 -0.228475 -0.211407\n",
       "INDUS  0.549930  1.000000 -0.396249 -0.395860\n",
       "RM    -0.228475 -0.396249  1.000000  0.898043\n",
       "MEDV  -0.211407 -0.395860  0.898043  1.000000"
      ]
     },
     "metadata": {},
     "output_type": "display_data"
    }
   ],
   "source": [
    "corr_all = df_all.corr(method='pearson')\n",
    "display(corr_all)"
   ]
  },
  {
   "cell_type": "markdown",
   "id": "special-today",
   "metadata": {},
   "source": [
    "Answer 2: CRIM"
   ]
  },
  {
   "cell_type": "code",
   "execution_count": 106,
   "id": "usual-messenger",
   "metadata": {},
   "outputs": [
    {
     "name": "stdout",
     "output_type": "stream",
     "text": [
      "X_all_org: (300, 3)\n"
     ]
    },
    {
     "data": {
      "text/html": [
       "<div>\n",
       "<style scoped>\n",
       "    .dataframe tbody tr th:only-of-type {\n",
       "        vertical-align: middle;\n",
       "    }\n",
       "\n",
       "    .dataframe tbody tr th {\n",
       "        vertical-align: top;\n",
       "    }\n",
       "\n",
       "    .dataframe thead th {\n",
       "        text-align: right;\n",
       "    }\n",
       "</style>\n",
       "<table border=\"1\" class=\"dataframe\">\n",
       "  <thead>\n",
       "    <tr style=\"text-align: right;\">\n",
       "      <th></th>\n",
       "      <th>CRIM</th>\n",
       "      <th>INDUS</th>\n",
       "      <th>RM</th>\n",
       "    </tr>\n",
       "  </thead>\n",
       "  <tbody>\n",
       "    <tr>\n",
       "      <th>0</th>\n",
       "      <td>0.00632</td>\n",
       "      <td>2.31</td>\n",
       "      <td>6.575</td>\n",
       "    </tr>\n",
       "    <tr>\n",
       "      <th>1</th>\n",
       "      <td>0.02731</td>\n",
       "      <td>7.07</td>\n",
       "      <td>6.421</td>\n",
       "    </tr>\n",
       "    <tr>\n",
       "      <th>2</th>\n",
       "      <td>0.02729</td>\n",
       "      <td>7.07</td>\n",
       "      <td>7.185</td>\n",
       "    </tr>\n",
       "    <tr>\n",
       "      <th>3</th>\n",
       "      <td>0.03237</td>\n",
       "      <td>2.18</td>\n",
       "      <td>6.998</td>\n",
       "    </tr>\n",
       "    <tr>\n",
       "      <th>4</th>\n",
       "      <td>0.06905</td>\n",
       "      <td>2.18</td>\n",
       "      <td>7.147</td>\n",
       "    </tr>\n",
       "  </tbody>\n",
       "</table>\n",
       "</div>"
      ],
      "text/plain": [
       "      CRIM  INDUS     RM\n",
       "0  0.00632   2.31  6.575\n",
       "1  0.02731   7.07  6.421\n",
       "2  0.02729   7.07  7.185\n",
       "3  0.03237   2.18  6.998\n",
       "4  0.06905   2.18  7.147"
      ]
     },
     "metadata": {},
     "output_type": "display_data"
    },
    {
     "name": "stdout",
     "output_type": "stream",
     "text": [
      "y: (300,)\n",
      "0    24.0\n",
      "1    21.6\n",
      "2    34.7\n",
      "3    33.4\n",
      "4    36.2\n",
      "Name: MEDV, dtype: float64\n"
     ]
    }
   ],
   "source": [
    "X_all_org = df_all.loc[:, 'CRIM':'RM']  # explanatory variables\n",
    "y = df_all['MEDV']  # objective variable\n",
    "print('X_all_org:', X_all_org.shape)\n",
    "display(X_all_org.head())\n",
    "print('y:', y.shape)\n",
    "print(y.head())"
   ]
  },
  {
   "cell_type": "code",
   "execution_count": 107,
   "id": "mobile-entertainment",
   "metadata": {},
   "outputs": [],
   "source": [
    "# get_dummies is not needed\n",
    "X_all = X_all_org.copy()\n",
    "\n",
    "#X_all = pd.get_dummies(X_all_org, drop_first=True)\n",
    "#print('X_all:', X_all.shape)\n",
    "#display(X_all.head())"
   ]
  },
  {
   "cell_type": "code",
   "execution_count": 108,
   "id": "lightweight-disclosure",
   "metadata": {},
   "outputs": [
    {
     "data": {
      "text/html": [
       "<div>\n",
       "<style scoped>\n",
       "    .dataframe tbody tr th:only-of-type {\n",
       "        vertical-align: middle;\n",
       "    }\n",
       "\n",
       "    .dataframe tbody tr th {\n",
       "        vertical-align: top;\n",
       "    }\n",
       "\n",
       "    .dataframe thead th {\n",
       "        text-align: right;\n",
       "    }\n",
       "</style>\n",
       "<table border=\"1\" class=\"dataframe\">\n",
       "  <thead>\n",
       "    <tr style=\"text-align: right;\">\n",
       "      <th></th>\n",
       "      <th>CRIM</th>\n",
       "      <th>INDUS</th>\n",
       "      <th>RM</th>\n",
       "    </tr>\n",
       "  </thead>\n",
       "  <tbody>\n",
       "    <tr>\n",
       "      <th>CRIM</th>\n",
       "      <td>1.000000</td>\n",
       "      <td>0.549930</td>\n",
       "      <td>-0.228475</td>\n",
       "    </tr>\n",
       "    <tr>\n",
       "      <th>INDUS</th>\n",
       "      <td>0.549930</td>\n",
       "      <td>1.000000</td>\n",
       "      <td>-0.396249</td>\n",
       "    </tr>\n",
       "    <tr>\n",
       "      <th>RM</th>\n",
       "      <td>-0.228475</td>\n",
       "      <td>-0.396249</td>\n",
       "      <td>1.000000</td>\n",
       "    </tr>\n",
       "  </tbody>\n",
       "</table>\n",
       "</div>"
      ],
      "text/plain": [
       "           CRIM     INDUS        RM\n",
       "CRIM   1.000000  0.549930 -0.228475\n",
       "INDUS  0.549930  1.000000 -0.396249\n",
       "RM    -0.228475 -0.396249  1.000000"
      ]
     },
     "metadata": {},
     "output_type": "display_data"
    }
   ],
   "source": [
    "corr_all = X_all.corr(method='pearson')\n",
    "display(corr_all)"
   ]
  },
  {
   "cell_type": "code",
   "execution_count": 109,
   "id": "imposed-paradise",
   "metadata": {},
   "outputs": [
    {
     "name": "stdout",
     "output_type": "stream",
     "text": [
      "CRIM   INDUS    0.549930\n",
      "INDUS  RM      -0.396249\n",
      "dtype: float64\n"
     ]
    }
   ],
   "source": [
    "th_corr = 0.3\n",
    "keep = np.triu(np.ones(corr_all.shape), k=1).astype('bool').flatten()\n",
    "triu = corr_all.stack()[keep]\n",
    "triu_sorted = triu[ np.abs(triu).sort_values(ascending=False).index ]\n",
    "print(triu_sorted[ (triu_sorted < -th_corr) | (triu_sorted > th_corr) ])"
   ]
  },
  {
   "cell_type": "code",
   "execution_count": 110,
   "id": "excellent-wagon",
   "metadata": {},
   "outputs": [
    {
     "name": "stdout",
     "output_type": "stream",
     "text": [
      "                            OLS Regression Results                            \n",
      "==============================================================================\n",
      "Dep. Variable:                   MEDV   R-squared:                       0.809\n",
      "Model:                            OLS   Adj. R-squared:                  0.807\n",
      "Method:                 Least Squares   F-statistic:                     417.2\n",
      "Date:                Fri, 04 Jun 2021   Prob (F-statistic):          5.99e-106\n",
      "Time:                        11:26:28   Log-Likelihood:                -832.47\n",
      "No. Observations:                 300   AIC:                             1673.\n",
      "Df Residuals:                     296   BIC:                             1688.\n",
      "Df Model:                           3                                         \n",
      "Covariance Type:            nonrobust                                         \n",
      "==============================================================================\n",
      "                 coef    std err          t      P>|t|      [0.025      0.975]\n",
      "------------------------------------------------------------------------------\n",
      "const        -44.9877      2.405    -18.710      0.000     -49.720     -40.256\n",
      "CRIM           0.2961      0.404      0.734      0.464      -0.498       1.090\n",
      "INDUS         -0.0831      0.045     -1.848      0.066      -0.172       0.005\n",
      "RM            11.0712      0.349     31.764      0.000      10.385      11.757\n",
      "==============================================================================\n",
      "Omnibus:                        6.795   Durbin-Watson:                   1.077\n",
      "Prob(Omnibus):                  0.033   Jarque-Bera (JB):                7.110\n",
      "Skew:                           0.272   Prob(JB):                       0.0286\n",
      "Kurtosis:                       3.522   Cond. No.                         131.\n",
      "==============================================================================\n",
      "\n",
      "Notes:\n",
      "[1] Standard Errors assume that the covariance matrix of the errors is correctly specified.\n"
     ]
    }
   ],
   "source": [
    "X_all_c = sm.add_constant(X_all)\n",
    "model = sm.OLS(y, X_all_c)\n",
    "results = model.fit()\n",
    "print(results.summary())"
   ]
  },
  {
   "cell_type": "code",
   "execution_count": 111,
   "id": "complex-vessel",
   "metadata": {},
   "outputs": [
    {
     "name": "stdout",
     "output_type": "stream",
     "text": [
      "R2: 0.8087275516080588\n",
      "Adj R2: 0.8067889794959783\n"
     ]
    }
   ],
   "source": [
    "print('R2:', results.rsquared)\n",
    "print('Adj R2:', results.rsquared_adj)"
   ]
  },
  {
   "cell_type": "code",
   "execution_count": 112,
   "id": "expanded-carroll",
   "metadata": {},
   "outputs": [
    {
     "name": "stdout",
     "output_type": "stream",
     "text": [
      "p-values (F-statistic) 5.990829766615677e-106\n"
     ]
    }
   ],
   "source": [
    "print('p-values (F-statistic)', results.f_pvalue)"
   ]
  },
  {
   "cell_type": "code",
   "execution_count": 113,
   "id": "hydraulic-pickup",
   "metadata": {},
   "outputs": [
    {
     "name": "stdout",
     "output_type": "stream",
     "text": [
      "const   -44.987696\n",
      "CRIM      0.296074\n",
      "INDUS    -0.083087\n",
      "RM       11.071189\n",
      "dtype: float64\n"
     ]
    }
   ],
   "source": [
    "print(results.params)"
   ]
  },
  {
   "cell_type": "code",
   "execution_count": 114,
   "id": "coated-background",
   "metadata": {},
   "outputs": [
    {
     "name": "stdout",
     "output_type": "stream",
     "text": [
      "                                 OLS Regression Results                                \n",
      "=======================================================================================\n",
      "Dep. Variable:                      y   R-squared (uncentered):                   0.809\n",
      "Model:                            OLS   Adj. R-squared (uncentered):              0.807\n",
      "Method:                 Least Squares   F-statistic:                              418.6\n",
      "Date:                Fri, 04 Jun 2021   Prob (F-statistic):                   2.62e-106\n",
      "Time:                        11:26:28   Log-Likelihood:                         -177.57\n",
      "No. Observations:                 300   AIC:                                      361.1\n",
      "Df Residuals:                     297   BIC:                                      372.3\n",
      "Df Model:                           3                                                  \n",
      "Covariance Type:            nonrobust                                                  \n",
      "==============================================================================\n",
      "                 coef    std err          t      P>|t|      [0.025      0.975]\n",
      "------------------------------------------------------------------------------\n",
      "x1             0.0223      0.030      0.735      0.463      -0.037       0.082\n",
      "x2            -0.0596      0.032     -1.851      0.065      -0.123       0.004\n",
      "x3             0.8795      0.028     31.817      0.000       0.825       0.934\n",
      "==============================================================================\n",
      "Omnibus:                        6.795   Durbin-Watson:                   1.077\n",
      "Prob(Omnibus):                  0.033   Jarque-Bera (JB):                7.110\n",
      "Skew:                           0.272   Prob(JB):                       0.0286\n",
      "Kurtosis:                       3.522   Cond. No.                         2.08\n",
      "==============================================================================\n",
      "\n",
      "Notes:\n",
      "[1] R² is computed without centering (uncentered) since the model does not contain a constant.\n",
      "[2] Standard Errors assume that the covariance matrix of the errors is correctly specified.\n"
     ]
    }
   ],
   "source": [
    "# NOTE: after scaling, X_scaled and Y_scaled are ndarray, not DataFrame.\n",
    "X_scaled = preprocessing.scale(X_all)\n",
    "y_scaled = preprocessing.scale(y)\n",
    "model = sm.OLS(y_scaled, X_scaled)\n",
    "results = model.fit()\n",
    "print(results.summary())"
   ]
  },
  {
   "cell_type": "code",
   "execution_count": 115,
   "id": "packed-dallas",
   "metadata": {},
   "outputs": [],
   "source": [
    "# NOTE: make DataFrames corresponding to X_scaled and y_scaled.\n",
    "dfX_scaled = pd.DataFrame(X_scaled, columns=X_all.columns)\n",
    "dfy_scaled = pd.Series(y_scaled, name=y.name)\n",
    "exog = list(dfX_scaled.columns)  # Initial set = all explanatory variables\n",
    "endog = [dfy_scaled.name]  # Objective variables\n",
    "df_scaled = pd.concat([dfX_scaled, dfy_scaled], axis=1)"
   ]
  },
  {
   "cell_type": "code",
   "execution_count": null,
   "id": "nuclear-paint",
   "metadata": {},
   "outputs": [],
   "source": []
  }
 ],
 "metadata": {
  "kernelspec": {
   "display_name": "Python 3",
   "language": "python",
   "name": "python3"
  },
  "language_info": {
   "codemirror_mode": {
    "name": "ipython",
    "version": 3
   },
   "file_extension": ".py",
   "mimetype": "text/x-python",
   "name": "python",
   "nbconvert_exporter": "python",
   "pygments_lexer": "ipython3",
   "version": "3.8.8"
  }
 },
 "nbformat": 4,
 "nbformat_minor": 5
}
