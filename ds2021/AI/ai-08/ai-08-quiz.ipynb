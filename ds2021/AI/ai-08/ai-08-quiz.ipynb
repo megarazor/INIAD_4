{
 "cells": [
  {
   "cell_type": "code",
   "execution_count": 1,
   "id": "injured-basketball",
   "metadata": {},
   "outputs": [],
   "source": [
    "import random\n",
    "import pandas as pd\n",
    "import numpy as np\n",
    "import matplotlib.pyplot as plt\n",
    "from sklearn.metrics import roc_curve, auc, roc_auc_score\n",
    "from sklearn.metrics import precision_recall_curve\n",
    "from sklearn.metrics import precision_score, recall_score, accuracy_score\n",
    "from sklearn.metrics import f1_score, matthews_corrcoef"
   ]
  },
  {
   "cell_type": "code",
   "execution_count": 2,
   "id": "cleared-marine",
   "metadata": {},
   "outputs": [],
   "source": [
    "csv_in = 'class_pre3.csv'"
   ]
  },
  {
   "cell_type": "code",
   "execution_count": 3,
   "id": "recognized-validation",
   "metadata": {},
   "outputs": [
    {
     "name": "stdout",
     "output_type": "stream",
     "text": [
      "(100, 4)\n",
      "<class 'pandas.core.frame.DataFrame'>\n",
      "RangeIndex: 100 entries, 0 to 99\n",
      "Data columns (total 4 columns):\n",
      " #   Column  Non-Null Count  Dtype  \n",
      "---  ------  --------------  -----  \n",
      " 0   label   100 non-null    int64  \n",
      " 1   A       100 non-null    float64\n",
      " 2   B       100 non-null    float64\n",
      " 3   C       100 non-null    float64\n",
      "dtypes: float64(3), int64(1)\n",
      "memory usage: 3.2 KB\n",
      "None\n"
     ]
    },
    {
     "data": {
      "text/html": [
       "<div>\n",
       "<style scoped>\n",
       "    .dataframe tbody tr th:only-of-type {\n",
       "        vertical-align: middle;\n",
       "    }\n",
       "\n",
       "    .dataframe tbody tr th {\n",
       "        vertical-align: top;\n",
       "    }\n",
       "\n",
       "    .dataframe thead th {\n",
       "        text-align: right;\n",
       "    }\n",
       "</style>\n",
       "<table border=\"1\" class=\"dataframe\">\n",
       "  <thead>\n",
       "    <tr style=\"text-align: right;\">\n",
       "      <th></th>\n",
       "      <th>label</th>\n",
       "      <th>A</th>\n",
       "      <th>B</th>\n",
       "      <th>C</th>\n",
       "    </tr>\n",
       "  </thead>\n",
       "  <tbody>\n",
       "    <tr>\n",
       "      <th>0</th>\n",
       "      <td>0</td>\n",
       "      <td>0.345066</td>\n",
       "      <td>0.115360</td>\n",
       "      <td>0.456917</td>\n",
       "    </tr>\n",
       "    <tr>\n",
       "      <th>1</th>\n",
       "      <td>0</td>\n",
       "      <td>0.419649</td>\n",
       "      <td>0.365812</td>\n",
       "      <td>0.390605</td>\n",
       "    </tr>\n",
       "    <tr>\n",
       "      <th>2</th>\n",
       "      <td>1</td>\n",
       "      <td>0.689613</td>\n",
       "      <td>0.925082</td>\n",
       "      <td>0.916245</td>\n",
       "    </tr>\n",
       "    <tr>\n",
       "      <th>3</th>\n",
       "      <td>0</td>\n",
       "      <td>0.636881</td>\n",
       "      <td>0.016503</td>\n",
       "      <td>0.420523</td>\n",
       "    </tr>\n",
       "    <tr>\n",
       "      <th>4</th>\n",
       "      <td>1</td>\n",
       "      <td>0.509998</td>\n",
       "      <td>0.665024</td>\n",
       "      <td>0.543389</td>\n",
       "    </tr>\n",
       "  </tbody>\n",
       "</table>\n",
       "</div>"
      ],
      "text/plain": [
       "   label         A         B         C\n",
       "0      0  0.345066  0.115360  0.456917\n",
       "1      0  0.419649  0.365812  0.390605\n",
       "2      1  0.689613  0.925082  0.916245\n",
       "3      0  0.636881  0.016503  0.420523\n",
       "4      1  0.509998  0.665024  0.543389"
      ]
     },
     "metadata": {},
     "output_type": "display_data"
    }
   ],
   "source": [
    "df = pd.read_csv(csv_in, delimiter=',', skiprows=0, header=0)\n",
    "print(df.shape)\n",
    "print(df.info())\n",
    "display(df.head())"
   ]
  },
  {
   "cell_type": "code",
   "execution_count": 7,
   "id": "bibliographic-future",
   "metadata": {},
   "outputs": [
    {
     "name": "stdout",
     "output_type": "stream",
     "text": [
      "A\n",
      "precision: 0.3442622950819672\n",
      "recall: 0.8076923076923077\n",
      "accuracy(Q2): 0.55\n",
      "f1: 0.4827586206896552\n",
      "matthews: 0.24024998217887925\n",
      "false positive rate: 0.5405405405405406\n"
     ]
    },
    {
     "data": {
      "text/html": [
       "<div>\n",
       "<style scoped>\n",
       "    .dataframe tbody tr th:only-of-type {\n",
       "        vertical-align: middle;\n",
       "    }\n",
       "\n",
       "    .dataframe tbody tr th {\n",
       "        vertical-align: top;\n",
       "    }\n",
       "\n",
       "    .dataframe thead th {\n",
       "        text-align: right;\n",
       "    }\n",
       "</style>\n",
       "<table border=\"1\" class=\"dataframe\">\n",
       "  <thead>\n",
       "    <tr style=\"text-align: right;\">\n",
       "      <th>A</th>\n",
       "      <th>0</th>\n",
       "      <th>1</th>\n",
       "    </tr>\n",
       "    <tr>\n",
       "      <th>label</th>\n",
       "      <th></th>\n",
       "      <th></th>\n",
       "    </tr>\n",
       "  </thead>\n",
       "  <tbody>\n",
       "    <tr>\n",
       "      <th>0</th>\n",
       "      <td>34</td>\n",
       "      <td>40</td>\n",
       "    </tr>\n",
       "    <tr>\n",
       "      <th>1</th>\n",
       "      <td>5</td>\n",
       "      <td>21</td>\n",
       "    </tr>\n",
       "  </tbody>\n",
       "</table>\n",
       "</div>"
      ],
      "text/plain": [
       "A       0   1\n",
       "label        \n",
       "0      34  40\n",
       "1       5  21"
      ]
     },
     "metadata": {},
     "output_type": "display_data"
    }
   ],
   "source": [
    "print('A')\n",
    "print('precision:', precision_score(df['label'], df['A']>=0.4))\n",
    "print('recall:', recall_score(df['label'], df['A']>=0.4))\n",
    "print('accuracy(Q2):', accuracy_score(df['label'], df['A']>=0.4))\n",
    "print('f1:', f1_score(df['label'], df['A']>=0.4))\n",
    "print('matthews:', matthews_corrcoef(df['label'], df['A']>=0.4))\n",
    "#predA = (df['A']>=0.4).astype('int')\n",
    "predA = df['A'].map(lambda x: 1 if x >= 0.4 else 0)\n",
    "ctA = pd.crosstab(df['label'], predA)\n",
    "fpA = ctA.loc[0,1]\n",
    "tnA = ctA.loc[0,0]\n",
    "print('false positive rate:', fpA/(fpA+tnA))\n",
    "display(ctA)"
   ]
  },
  {
   "cell_type": "code",
   "execution_count": 8,
   "id": "unlimited-cosmetic",
   "metadata": {},
   "outputs": [
    {
     "name": "stdout",
     "output_type": "stream",
     "text": [
      "B\n",
      "precision: 0.5365853658536586\n",
      "recall: 0.8461538461538461\n",
      "accuracy(Q2): 0.77\n",
      "f1: 0.6567164179104478\n",
      "matthews: 0.5256450590867675\n",
      "false positive rate: 0.25675675675675674\n",
      "specificity: 0.7432432432432432\n"
     ]
    },
    {
     "data": {
      "text/html": [
       "<div>\n",
       "<style scoped>\n",
       "    .dataframe tbody tr th:only-of-type {\n",
       "        vertical-align: middle;\n",
       "    }\n",
       "\n",
       "    .dataframe tbody tr th {\n",
       "        vertical-align: top;\n",
       "    }\n",
       "\n",
       "    .dataframe thead th {\n",
       "        text-align: right;\n",
       "    }\n",
       "</style>\n",
       "<table border=\"1\" class=\"dataframe\">\n",
       "  <thead>\n",
       "    <tr style=\"text-align: right;\">\n",
       "      <th>B</th>\n",
       "      <th>0</th>\n",
       "      <th>1</th>\n",
       "    </tr>\n",
       "    <tr>\n",
       "      <th>label</th>\n",
       "      <th></th>\n",
       "      <th></th>\n",
       "    </tr>\n",
       "  </thead>\n",
       "  <tbody>\n",
       "    <tr>\n",
       "      <th>0</th>\n",
       "      <td>55</td>\n",
       "      <td>19</td>\n",
       "    </tr>\n",
       "    <tr>\n",
       "      <th>1</th>\n",
       "      <td>4</td>\n",
       "      <td>22</td>\n",
       "    </tr>\n",
       "  </tbody>\n",
       "</table>\n",
       "</div>"
      ],
      "text/plain": [
       "B       0   1\n",
       "label        \n",
       "0      55  19\n",
       "1       4  22"
      ]
     },
     "metadata": {},
     "output_type": "display_data"
    }
   ],
   "source": [
    "print('B')\n",
    "print('precision:', precision_score(df['label'], df['B']>=0.4))\n",
    "print('recall:', recall_score(df['label'], df['B']>=0.4))\n",
    "print('accuracy(Q2):', accuracy_score(df['label'], df['B']>=0.4))\n",
    "print('f1:', f1_score(df['label'], df['B']>=0.4))\n",
    "print('matthews:', matthews_corrcoef(df['label'], df['B']>=0.4))\n",
    "#predB = (df['B']>=0.4).astype('int')\n",
    "predB = df['B'].map(lambda x: 1 if x >= 0.4 else 0)\n",
    "ctB = pd.crosstab(df['label'], predB)\n",
    "fpB = ctB.loc[0,1]\n",
    "tnB = ctB.loc[0,0]\n",
    "print('false positive rate:', fpB/(fpB+tnB))\n",
    "print('specificity:', tnB/(fpB+tnB))\n",
    "display(ctB)"
   ]
  },
  {
   "cell_type": "code",
   "execution_count": null,
   "id": "interior-posting",
   "metadata": {},
   "outputs": [],
   "source": [
    "print('true positive rate:', fpB/(fpB+tnB))"
   ]
  },
  {
   "cell_type": "code",
   "execution_count": 6,
   "id": "dated-crash",
   "metadata": {},
   "outputs": [
    {
     "name": "stdout",
     "output_type": "stream",
     "text": [
      "C\n",
      "precision: 0.5588235294117647\n",
      "recall: 0.7307692307692307\n",
      "accuracy(Q2): 0.78\n",
      "f1: 0.6333333333333334\n",
      "matthews: 0.48896722279852045\n",
      "false positive rate: 0.20270270270270271\n"
     ]
    },
    {
     "data": {
      "text/html": [
       "<div>\n",
       "<style scoped>\n",
       "    .dataframe tbody tr th:only-of-type {\n",
       "        vertical-align: middle;\n",
       "    }\n",
       "\n",
       "    .dataframe tbody tr th {\n",
       "        vertical-align: top;\n",
       "    }\n",
       "\n",
       "    .dataframe thead th {\n",
       "        text-align: right;\n",
       "    }\n",
       "</style>\n",
       "<table border=\"1\" class=\"dataframe\">\n",
       "  <thead>\n",
       "    <tr style=\"text-align: right;\">\n",
       "      <th>C</th>\n",
       "      <th>0</th>\n",
       "      <th>1</th>\n",
       "    </tr>\n",
       "    <tr>\n",
       "      <th>label</th>\n",
       "      <th></th>\n",
       "      <th></th>\n",
       "    </tr>\n",
       "  </thead>\n",
       "  <tbody>\n",
       "    <tr>\n",
       "      <th>0</th>\n",
       "      <td>59</td>\n",
       "      <td>15</td>\n",
       "    </tr>\n",
       "    <tr>\n",
       "      <th>1</th>\n",
       "      <td>7</td>\n",
       "      <td>19</td>\n",
       "    </tr>\n",
       "  </tbody>\n",
       "</table>\n",
       "</div>"
      ],
      "text/plain": [
       "C       0   1\n",
       "label        \n",
       "0      59  15\n",
       "1       7  19"
      ]
     },
     "metadata": {},
     "output_type": "display_data"
    }
   ],
   "source": [
    "print('C')\n",
    "print('precision:', precision_score(df['label'], df['C']>=0.6))\n",
    "print('recall:', recall_score(df['label'], df['C']>=0.6))\n",
    "print('accuracy(Q2):', accuracy_score(df['label'], df['C']>=0.6))\n",
    "print('f1:', f1_score(df['label'], df['C']>=0.6))\n",
    "print('matthews:', matthews_corrcoef(df['label'], df['C']>=0.6))\n",
    "#predC = (df['C']>=0.6).astype('int')\n",
    "predC = df['C'].map(lambda x: 1 if x >= 0.6 else 0)\n",
    "ctC = pd.crosstab(df['label'], predC)\n",
    "fpC = ctC.loc[0,1]\n",
    "tnC = ctC.loc[0,0]\n",
    "print('false positive rate:', fpC/(fpC+tnC))\n",
    "display(ctC)"
   ]
  },
  {
   "cell_type": "code",
   "execution_count": null,
   "id": "alert-tyler",
   "metadata": {},
   "outputs": [],
   "source": []
  }
 ],
 "metadata": {
  "kernelspec": {
   "display_name": "Python 3",
   "language": "python",
   "name": "python3"
  },
  "language_info": {
   "codemirror_mode": {
    "name": "ipython",
    "version": 3
   },
   "file_extension": ".py",
   "mimetype": "text/x-python",
   "name": "python",
   "nbconvert_exporter": "python",
   "pygments_lexer": "ipython3",
   "version": "3.8.8"
  }
 },
 "nbformat": 4,
 "nbformat_minor": 5
}
