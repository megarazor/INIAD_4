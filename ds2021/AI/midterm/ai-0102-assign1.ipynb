{
 "cells": [
  {
   "cell_type": "code",
   "execution_count": 5,
   "id": "numeric-citation",
   "metadata": {},
   "outputs": [],
   "source": [
    "import numpy as np"
   ]
  },
  {
   "cell_type": "code",
   "execution_count": 6,
   "id": "developmental-necessity",
   "metadata": {},
   "outputs": [],
   "source": [
    "v1= np.array([1, 3, 5, 7, 9, 7, 5, 3, 1])"
   ]
  },
  {
   "cell_type": "code",
   "execution_count": 10,
   "id": "demographic-vector",
   "metadata": {},
   "outputs": [],
   "source": [
    "v2= v1.reshape(3, 3)"
   ]
  },
  {
   "cell_type": "code",
   "execution_count": 12,
   "id": "rational-flour",
   "metadata": {},
   "outputs": [
    {
     "name": "stdout",
     "output_type": "stream",
     "text": [
      "(3, 3)\n",
      "[[1 3 5]\n",
      " [7 9 7]\n",
      " [5 3 1]]\n"
     ]
    }
   ],
   "source": [
    "print(v2.shape)\n",
    "print(v2)"
   ]
  },
  {
   "cell_type": "code",
   "execution_count": 13,
   "id": "comparative-trace",
   "metadata": {},
   "outputs": [
    {
     "name": "stdout",
     "output_type": "stream",
     "text": [
      "[5 9 5]\n"
     ]
    }
   ],
   "source": [
    "print(np.amax(v2, axis=1))"
   ]
  },
  {
   "cell_type": "code",
   "execution_count": 14,
   "id": "urban-aerospace",
   "metadata": {},
   "outputs": [
    {
     "name": "stdout",
     "output_type": "stream",
     "text": [
      "[4.33333333 5.         4.33333333]\n"
     ]
    }
   ],
   "source": [
    "print(np.mean(v2, axis=0))"
   ]
  },
  {
   "cell_type": "code",
   "execution_count": null,
   "id": "surrounded-nebraska",
   "metadata": {},
   "outputs": [],
   "source": []
  }
 ],
 "metadata": {
  "kernelspec": {
   "display_name": "Python 3",
   "language": "python",
   "name": "python3"
  },
  "language_info": {
   "codemirror_mode": {
    "name": "ipython",
    "version": 3
   },
   "file_extension": ".py",
   "mimetype": "text/x-python",
   "name": "python",
   "nbconvert_exporter": "python",
   "pygments_lexer": "ipython3",
   "version": "3.8.8"
  }
 },
 "nbformat": 4,
 "nbformat_minor": 5
}
