{
 "cells": [
  {
   "cell_type": "code",
   "execution_count": 1,
   "id": "parallel-harrison",
   "metadata": {},
   "outputs": [],
   "source": [
    "import numpy as np\n",
    "import pandas as pd"
   ]
  },
  {
   "cell_type": "code",
   "execution_count": 2,
   "id": "interior-jenny",
   "metadata": {},
   "outputs": [
    {
     "name": "stdout",
     "output_type": "stream",
     "text": [
      "(376, 5)\n",
      "<class 'pandas.core.frame.DataFrame'>\n",
      "RangeIndex: 376 entries, 0 to 375\n",
      "Data columns (total 5 columns):\n",
      " #   Column   Non-Null Count  Dtype \n",
      "---  ------   --------------  ----- \n",
      " 0   ShopID   376 non-null    int64 \n",
      " 1   Pref     376 non-null    object\n",
      " 2   Product  376 non-null    object\n",
      " 3   Price    376 non-null    int64 \n",
      " 4   Amount   376 non-null    int64 \n",
      "dtypes: int64(3), object(2)\n",
      "memory usage: 14.8+ KB\n",
      "None\n"
     ]
    },
    {
     "data": {
      "text/html": [
       "<div>\n",
       "<style scoped>\n",
       "    .dataframe tbody tr th:only-of-type {\n",
       "        vertical-align: middle;\n",
       "    }\n",
       "\n",
       "    .dataframe tbody tr th {\n",
       "        vertical-align: top;\n",
       "    }\n",
       "\n",
       "    .dataframe thead th {\n",
       "        text-align: right;\n",
       "    }\n",
       "</style>\n",
       "<table border=\"1\" class=\"dataframe\">\n",
       "  <thead>\n",
       "    <tr style=\"text-align: right;\">\n",
       "      <th></th>\n",
       "      <th>ShopID</th>\n",
       "      <th>Pref</th>\n",
       "      <th>Product</th>\n",
       "      <th>Price</th>\n",
       "      <th>Amount</th>\n",
       "    </tr>\n",
       "  </thead>\n",
       "  <tbody>\n",
       "    <tr>\n",
       "      <th>0</th>\n",
       "      <td>18</td>\n",
       "      <td>Kanagawa</td>\n",
       "      <td>BAT</td>\n",
       "      <td>13800</td>\n",
       "      <td>10</td>\n",
       "    </tr>\n",
       "    <tr>\n",
       "      <th>1</th>\n",
       "      <td>18</td>\n",
       "      <td>Kanagawa</td>\n",
       "      <td>UNIFORM</td>\n",
       "      <td>11800</td>\n",
       "      <td>12</td>\n",
       "    </tr>\n",
       "    <tr>\n",
       "      <th>2</th>\n",
       "      <td>18</td>\n",
       "      <td>Kanagawa</td>\n",
       "      <td>GLOVE</td>\n",
       "      <td>16700</td>\n",
       "      <td>10</td>\n",
       "    </tr>\n",
       "    <tr>\n",
       "      <th>3</th>\n",
       "      <td>18</td>\n",
       "      <td>Kanagawa</td>\n",
       "      <td>SHOES</td>\n",
       "      <td>12800</td>\n",
       "      <td>10</td>\n",
       "    </tr>\n",
       "    <tr>\n",
       "      <th>4</th>\n",
       "      <td>30</td>\n",
       "      <td>Ibaraki</td>\n",
       "      <td>BAT</td>\n",
       "      <td>13800</td>\n",
       "      <td>8</td>\n",
       "    </tr>\n",
       "  </tbody>\n",
       "</table>\n",
       "</div>"
      ],
      "text/plain": [
       "   ShopID      Pref  Product  Price  Amount\n",
       "0      18  Kanagawa      BAT  13800      10\n",
       "1      18  Kanagawa  UNIFORM  11800      12\n",
       "2      18  Kanagawa    GLOVE  16700      10\n",
       "3      18  Kanagawa    SHOES  12800      10\n",
       "4      30   Ibaraki      BAT  13800       8"
      ]
     },
     "metadata": {},
     "output_type": "display_data"
    }
   ],
   "source": [
    "csv_in = 'baseball_shop.csv'\n",
    "df = pd.read_csv(csv_in, delimiter=',', skiprows=None, header=0)\n",
    "\n",
    "print(df.shape)\n",
    "print(df.info())\n",
    "display(df.head())"
   ]
  },
  {
   "cell_type": "code",
   "execution_count": 3,
   "id": "conscious-astrology",
   "metadata": {},
   "outputs": [
    {
     "name": "stdout",
     "output_type": "stream",
     "text": [
      "Tokyo       68\n",
      "Kanagawa    68\n",
      "Chiba       64\n",
      "Saitama     48\n",
      "Ibaraki     48\n",
      "Gunma       40\n",
      "Tochigi     40\n",
      "Name: Pref, dtype: int64\n",
      "UNIFORM    94\n",
      "SHOES      94\n",
      "GLOVE      94\n",
      "BAT        94\n",
      "Name: Product, dtype: int64\n"
     ]
    }
   ],
   "source": [
    "print(df['Pref'].value_counts())\n",
    "print(df['Product'].value_counts())"
   ]
  },
  {
   "cell_type": "code",
   "execution_count": 4,
   "id": "emotional-camcorder",
   "metadata": {},
   "outputs": [
    {
     "name": "stdout",
     "output_type": "stream",
     "text": [
      "94\n"
     ]
    }
   ],
   "source": [
    "print(len(df['ShopID'].value_counts()))\n",
    "# or\n",
    "#print(df['ShopID'].nunique())"
   ]
  },
  {
   "cell_type": "code",
   "execution_count": 5,
   "id": "fifth-harris",
   "metadata": {},
   "outputs": [
    {
     "data": {
      "text/html": [
       "<div>\n",
       "<style scoped>\n",
       "    .dataframe tbody tr th:only-of-type {\n",
       "        vertical-align: middle;\n",
       "    }\n",
       "\n",
       "    .dataframe tbody tr th {\n",
       "        vertical-align: top;\n",
       "    }\n",
       "\n",
       "    .dataframe thead th {\n",
       "        text-align: right;\n",
       "    }\n",
       "</style>\n",
       "<table border=\"1\" class=\"dataframe\">\n",
       "  <thead>\n",
       "    <tr style=\"text-align: right;\">\n",
       "      <th></th>\n",
       "      <th>ShopID</th>\n",
       "      <th>Pref</th>\n",
       "      <th>Product</th>\n",
       "      <th>Price</th>\n",
       "      <th>Amount</th>\n",
       "      <th>Sales</th>\n",
       "    </tr>\n",
       "  </thead>\n",
       "  <tbody>\n",
       "    <tr>\n",
       "      <th>0</th>\n",
       "      <td>18</td>\n",
       "      <td>Kanagawa</td>\n",
       "      <td>BAT</td>\n",
       "      <td>13800</td>\n",
       "      <td>10</td>\n",
       "      <td>138000</td>\n",
       "    </tr>\n",
       "    <tr>\n",
       "      <th>1</th>\n",
       "      <td>18</td>\n",
       "      <td>Kanagawa</td>\n",
       "      <td>UNIFORM</td>\n",
       "      <td>11800</td>\n",
       "      <td>12</td>\n",
       "      <td>141600</td>\n",
       "    </tr>\n",
       "    <tr>\n",
       "      <th>2</th>\n",
       "      <td>18</td>\n",
       "      <td>Kanagawa</td>\n",
       "      <td>GLOVE</td>\n",
       "      <td>16700</td>\n",
       "      <td>10</td>\n",
       "      <td>167000</td>\n",
       "    </tr>\n",
       "    <tr>\n",
       "      <th>3</th>\n",
       "      <td>18</td>\n",
       "      <td>Kanagawa</td>\n",
       "      <td>SHOES</td>\n",
       "      <td>12800</td>\n",
       "      <td>10</td>\n",
       "      <td>128000</td>\n",
       "    </tr>\n",
       "    <tr>\n",
       "      <th>4</th>\n",
       "      <td>30</td>\n",
       "      <td>Ibaraki</td>\n",
       "      <td>BAT</td>\n",
       "      <td>13800</td>\n",
       "      <td>8</td>\n",
       "      <td>110400</td>\n",
       "    </tr>\n",
       "  </tbody>\n",
       "</table>\n",
       "</div>"
      ],
      "text/plain": [
       "   ShopID      Pref  Product  Price  Amount   Sales\n",
       "0      18  Kanagawa      BAT  13800      10  138000\n",
       "1      18  Kanagawa  UNIFORM  11800      12  141600\n",
       "2      18  Kanagawa    GLOVE  16700      10  167000\n",
       "3      18  Kanagawa    SHOES  12800      10  128000\n",
       "4      30   Ibaraki      BAT  13800       8  110400"
      ]
     },
     "metadata": {},
     "output_type": "display_data"
    }
   ],
   "source": [
    "df['Sales'] = df['Price']*df['Amount']\n",
    "display(df.head())"
   ]
  },
  {
   "cell_type": "code",
   "execution_count": 6,
   "id": "second-house",
   "metadata": {},
   "outputs": [
    {
     "name": "stdout",
     "output_type": "stream",
     "text": [
      "37283200\n"
     ]
    }
   ],
   "source": [
    "print(df['Sales'].sum())"
   ]
  },
  {
   "cell_type": "code",
   "execution_count": 9,
   "id": "phantom-relative",
   "metadata": {},
   "outputs": [
    {
     "name": "stdout",
     "output_type": "stream",
     "text": [
      "Pref\n",
      "Chiba       5343100\n",
      "Gunma       4021000\n",
      "Ibaraki     4513500\n",
      "Kanagawa    5813100\n",
      "Saitama     5276800\n",
      "Tochigi     3296300\n",
      "Tokyo       9019400\n",
      "Name: Sales, dtype: int64\n"
     ]
    }
   ],
   "source": [
    "df_pref = df.groupby('Pref').sum()\n",
    "print(df_pref['Sales'])"
   ]
  },
  {
   "cell_type": "code",
   "execution_count": 10,
   "id": "weekly-brand",
   "metadata": {},
   "outputs": [
    {
     "name": "stdout",
     "output_type": "stream",
     "text": [
      "Tochigi\n"
     ]
    }
   ],
   "source": [
    "print(df_pref['Sales'].idxmin())"
   ]
  },
  {
   "cell_type": "code",
   "execution_count": 11,
   "id": "photographic-cinema",
   "metadata": {},
   "outputs": [
    {
     "data": {
      "text/html": [
       "<div>\n",
       "<style scoped>\n",
       "    .dataframe tbody tr th:only-of-type {\n",
       "        vertical-align: middle;\n",
       "    }\n",
       "\n",
       "    .dataframe tbody tr th {\n",
       "        vertical-align: top;\n",
       "    }\n",
       "\n",
       "    .dataframe thead th {\n",
       "        text-align: right;\n",
       "    }\n",
       "</style>\n",
       "<table border=\"1\" class=\"dataframe\">\n",
       "  <thead>\n",
       "    <tr style=\"text-align: right;\">\n",
       "      <th>Product</th>\n",
       "      <th>BAT</th>\n",
       "      <th>GLOVE</th>\n",
       "      <th>SHOES</th>\n",
       "      <th>UNIFORM</th>\n",
       "    </tr>\n",
       "    <tr>\n",
       "      <th>Pref</th>\n",
       "      <th></th>\n",
       "      <th></th>\n",
       "      <th></th>\n",
       "      <th></th>\n",
       "    </tr>\n",
       "  </thead>\n",
       "  <tbody>\n",
       "    <tr>\n",
       "      <th>Chiba</th>\n",
       "      <td>966000</td>\n",
       "      <td>1486300</td>\n",
       "      <td>1356800</td>\n",
       "      <td>1534000</td>\n",
       "    </tr>\n",
       "    <tr>\n",
       "      <th>Gunma</th>\n",
       "      <td>938400</td>\n",
       "      <td>1402800</td>\n",
       "      <td>960000</td>\n",
       "      <td>719800</td>\n",
       "    </tr>\n",
       "    <tr>\n",
       "      <th>Ibaraki</th>\n",
       "      <td>1090200</td>\n",
       "      <td>1152300</td>\n",
       "      <td>1126400</td>\n",
       "      <td>1144600</td>\n",
       "    </tr>\n",
       "    <tr>\n",
       "      <th>Kanagawa</th>\n",
       "      <td>1297200</td>\n",
       "      <td>1619900</td>\n",
       "      <td>1574400</td>\n",
       "      <td>1321600</td>\n",
       "    </tr>\n",
       "    <tr>\n",
       "      <th>Saitama</th>\n",
       "      <td>1228200</td>\n",
       "      <td>1503000</td>\n",
       "      <td>1318400</td>\n",
       "      <td>1227200</td>\n",
       "    </tr>\n",
       "    <tr>\n",
       "      <th>Tochigi</th>\n",
       "      <td>759000</td>\n",
       "      <td>718100</td>\n",
       "      <td>780800</td>\n",
       "      <td>1038400</td>\n",
       "    </tr>\n",
       "    <tr>\n",
       "      <th>Tokyo</th>\n",
       "      <td>2166600</td>\n",
       "      <td>2839000</td>\n",
       "      <td>2137600</td>\n",
       "      <td>1876200</td>\n",
       "    </tr>\n",
       "  </tbody>\n",
       "</table>\n",
       "</div>"
      ],
      "text/plain": [
       "Product       BAT    GLOVE    SHOES  UNIFORM\n",
       "Pref                                        \n",
       "Chiba      966000  1486300  1356800  1534000\n",
       "Gunma      938400  1402800   960000   719800\n",
       "Ibaraki   1090200  1152300  1126400  1144600\n",
       "Kanagawa  1297200  1619900  1574400  1321600\n",
       "Saitama   1228200  1503000  1318400  1227200\n",
       "Tochigi    759000   718100   780800  1038400\n",
       "Tokyo     2166600  2839000  2137600  1876200"
      ]
     },
     "metadata": {},
     "output_type": "display_data"
    },
    {
     "name": "stdout",
     "output_type": "stream",
     "text": [
      "1534000\n"
     ]
    }
   ],
   "source": [
    "df_pref_product = df.pivot_table('Sales', index='Pref', columns='Product',\n",
    "                                 aggfunc=np.sum)\n",
    "display(df_pref_product)\n",
    "print(df_pref_product.at['Chiba', 'UNIFORM'])"
   ]
  },
  {
   "cell_type": "code",
   "execution_count": null,
   "id": "exclusive-deadline",
   "metadata": {},
   "outputs": [],
   "source": []
  }
 ],
 "metadata": {
  "kernelspec": {
   "display_name": "Python 3",
   "language": "python",
   "name": "python3"
  },
  "language_info": {
   "codemirror_mode": {
    "name": "ipython",
    "version": 3
   },
   "file_extension": ".py",
   "mimetype": "text/x-python",
   "name": "python",
   "nbconvert_exporter": "python",
   "pygments_lexer": "ipython3",
   "version": "3.8.8"
  }
 },
 "nbformat": 4,
 "nbformat_minor": 5
}
