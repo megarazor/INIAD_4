{
 "cells": [
  {
   "cell_type": "code",
   "execution_count": 15,
   "id": "purple-microphone",
   "metadata": {},
   "outputs": [],
   "source": [
    "import numpy as np"
   ]
  },
  {
   "cell_type": "code",
   "execution_count": 16,
   "id": "banned-inside",
   "metadata": {},
   "outputs": [],
   "source": [
    "v1= np.array([1, 3, 5, 7, 9, 7, 5, 3, 1])"
   ]
  },
  {
   "cell_type": "code",
   "execution_count": 17,
   "id": "revised-formation",
   "metadata": {},
   "outputs": [],
   "source": [
    "v2= v1.reshape(3, 3)"
   ]
  },
  {
   "cell_type": "code",
   "execution_count": 18,
   "id": "amber-spice",
   "metadata": {},
   "outputs": [
    {
     "name": "stdout",
     "output_type": "stream",
     "text": [
      "(3, 3)\n",
      "[[1 3 5]\n",
      " [7 9 7]\n",
      " [5 3 1]]\n"
     ]
    }
   ],
   "source": [
    "print(v2.shape)\n",
    "print(v2)"
   ]
  },
  {
   "cell_type": "code",
   "execution_count": 19,
   "id": "american-rochester",
   "metadata": {},
   "outputs": [
    {
     "name": "stdout",
     "output_type": "stream",
     "text": [
      "[5 9 5]\n"
     ]
    }
   ],
   "source": [
    "row_max= np.amax(v2, axis=1)\n",
    "print(row_max)"
   ]
  },
  {
   "cell_type": "code",
   "execution_count": 20,
   "id": "prompt-group",
   "metadata": {},
   "outputs": [
    {
     "name": "stdout",
     "output_type": "stream",
     "text": [
      "[4.33333333 5.         4.33333333]\n"
     ]
    }
   ],
   "source": [
    "col_avg= np.mean(v2, axis=0)\n",
    "print(col_avg)"
   ]
  },
  {
   "cell_type": "code",
   "execution_count": null,
   "id": "patient-fleece",
   "metadata": {},
   "outputs": [],
   "source": []
  }
 ],
 "metadata": {
  "kernelspec": {
   "display_name": "Python 3",
   "language": "python",
   "name": "python3"
  },
  "language_info": {
   "codemirror_mode": {
    "name": "ipython",
    "version": 3
   },
   "file_extension": ".py",
   "mimetype": "text/x-python",
   "name": "python",
   "nbconvert_exporter": "python",
   "pygments_lexer": "ipython3",
   "version": "3.8.8"
  }
 },
 "nbformat": 4,
 "nbformat_minor": 5
}
