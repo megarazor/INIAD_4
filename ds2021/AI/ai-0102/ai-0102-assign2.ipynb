{
 "cells": [
  {
   "cell_type": "code",
   "execution_count": 1,
   "id": "necessary-clear",
   "metadata": {},
   "outputs": [],
   "source": [
    "import numpy as np\n",
    "import pandas as pd"
   ]
  },
  {
   "cell_type": "code",
   "execution_count": 6,
   "id": "concrete-revelation",
   "metadata": {},
   "outputs": [
    {
     "name": "stdout",
     "output_type": "stream",
     "text": [
      "(376, 5)\n",
      "ShopID      int64\n",
      "Pref       object\n",
      "Product    object\n",
      "Price       int64\n",
      "Amount      int64\n",
      "dtype: object\n"
     ]
    },
    {
     "data": {
      "text/html": [
       "<div>\n",
       "<style scoped>\n",
       "    .dataframe tbody tr th:only-of-type {\n",
       "        vertical-align: middle;\n",
       "    }\n",
       "\n",
       "    .dataframe tbody tr th {\n",
       "        vertical-align: top;\n",
       "    }\n",
       "\n",
       "    .dataframe thead th {\n",
       "        text-align: right;\n",
       "    }\n",
       "</style>\n",
       "<table border=\"1\" class=\"dataframe\">\n",
       "  <thead>\n",
       "    <tr style=\"text-align: right;\">\n",
       "      <th></th>\n",
       "      <th>ShopID</th>\n",
       "      <th>Pref</th>\n",
       "      <th>Product</th>\n",
       "      <th>Price</th>\n",
       "      <th>Amount</th>\n",
       "    </tr>\n",
       "  </thead>\n",
       "  <tbody>\n",
       "    <tr>\n",
       "      <th>0</th>\n",
       "      <td>18</td>\n",
       "      <td>Kanagawa</td>\n",
       "      <td>BAT</td>\n",
       "      <td>13800</td>\n",
       "      <td>10</td>\n",
       "    </tr>\n",
       "    <tr>\n",
       "      <th>1</th>\n",
       "      <td>18</td>\n",
       "      <td>Kanagawa</td>\n",
       "      <td>UNIFORM</td>\n",
       "      <td>11800</td>\n",
       "      <td>12</td>\n",
       "    </tr>\n",
       "    <tr>\n",
       "      <th>2</th>\n",
       "      <td>18</td>\n",
       "      <td>Kanagawa</td>\n",
       "      <td>GLOVE</td>\n",
       "      <td>16700</td>\n",
       "      <td>10</td>\n",
       "    </tr>\n",
       "    <tr>\n",
       "      <th>3</th>\n",
       "      <td>18</td>\n",
       "      <td>Kanagawa</td>\n",
       "      <td>SHOES</td>\n",
       "      <td>12800</td>\n",
       "      <td>10</td>\n",
       "    </tr>\n",
       "    <tr>\n",
       "      <th>4</th>\n",
       "      <td>30</td>\n",
       "      <td>Ibaraki</td>\n",
       "      <td>BAT</td>\n",
       "      <td>13800</td>\n",
       "      <td>8</td>\n",
       "    </tr>\n",
       "  </tbody>\n",
       "</table>\n",
       "</div>"
      ],
      "text/plain": [
       "   ShopID      Pref  Product  Price  Amount\n",
       "0      18  Kanagawa      BAT  13800      10\n",
       "1      18  Kanagawa  UNIFORM  11800      12\n",
       "2      18  Kanagawa    GLOVE  16700      10\n",
       "3      18  Kanagawa    SHOES  12800      10\n",
       "4      30   Ibaraki      BAT  13800       8"
      ]
     },
     "metadata": {},
     "output_type": "display_data"
    }
   ],
   "source": [
    "df = pd.read_csv('baseball_shop.csv',\n",
    "                 delimiter=',', skiprows=0, header=0)\n",
    "print(df.shape)\n",
    "print(df.dtypes)\n",
    "display(df.head())"
   ]
  },
  {
   "cell_type": "code",
   "execution_count": 7,
   "id": "united-seminar",
   "metadata": {},
   "outputs": [
    {
     "name": "stdout",
     "output_type": "stream",
     "text": [
      "Tokyo       68\n",
      "Kanagawa    68\n",
      "Chiba       64\n",
      "Saitama     48\n",
      "Ibaraki     48\n",
      "Tochigi     40\n",
      "Gunma       40\n",
      "Name: Pref, dtype: int64\n",
      "SHOES      94\n",
      "GLOVE      94\n",
      "BAT        94\n",
      "UNIFORM    94\n",
      "Name: Product, dtype: int64\n"
     ]
    }
   ],
   "source": [
    "print(df['Pref'].value_counts())\n",
    "print(df['Product'].value_counts())"
   ]
  },
  {
   "cell_type": "code",
   "execution_count": 10,
   "id": "broke-magazine",
   "metadata": {},
   "outputs": [
    {
     "name": "stdout",
     "output_type": "stream",
     "text": [
      "94\n"
     ]
    }
   ],
   "source": [
    "shopIDs= df['ShopID'].unique()\n",
    "print(len(shopIDs))"
   ]
  },
  {
   "cell_type": "code",
   "execution_count": 113,
   "id": "sought-roulette",
   "metadata": {},
   "outputs": [],
   "source": [
    "sales= df['Price'] * df['Amount']\n",
    "df['Sales']= sales"
   ]
  },
  {
   "cell_type": "code",
   "execution_count": 114,
   "id": "furnished-fiber",
   "metadata": {},
   "outputs": [
    {
     "name": "stdout",
     "output_type": "stream",
     "text": [
      "37283200\n"
     ]
    }
   ],
   "source": [
    "total_sales= df['Sales'].sum()\n",
    "print(total_sales)"
   ]
  },
  {
   "cell_type": "code",
   "execution_count": 115,
   "id": "julian-message",
   "metadata": {},
   "outputs": [
    {
     "name": "stdout",
     "output_type": "stream",
     "text": [
      "       Pref    Sales\n",
      "0     Chiba  5343100\n",
      "1     Gunma  4021000\n",
      "2   Ibaraki  4513500\n",
      "3  Kanagawa  5813100\n",
      "4   Saitama  5276800\n",
      "5   Tochigi  3296300\n",
      "6     Tokyo  9019400\n"
     ]
    }
   ],
   "source": [
    "df_sum = df.groupby('Pref').sum().reset_index()\n",
    "print(df_sum[['Pref', 'Sales']])"
   ]
  },
  {
   "cell_type": "code",
   "execution_count": 116,
   "id": "australian-telling",
   "metadata": {},
   "outputs": [
    {
     "name": "stdout",
     "output_type": "stream",
     "text": [
      "5    Tochigi\n",
      "Name: Pref, dtype: object\n"
     ]
    }
   ],
   "source": [
    "print(df_sum[df_sum.Sales == df_sum.Sales.min()]['Pref'])"
   ]
  },
  {
   "cell_type": "code",
   "execution_count": 117,
   "id": "opened-modification",
   "metadata": {},
   "outputs": [
    {
     "data": {
      "text/plain": [
       "3    1534000\n",
       "Name: Sales, dtype: int64"
      ]
     },
     "execution_count": 117,
     "metadata": {},
     "output_type": "execute_result"
    }
   ],
   "source": [
    "df_sum2= df.groupby(['Pref', 'Product']).sum().reset_index()\n",
    "df_sum2.loc[(df_sum2['Pref'] == 'Chiba') & (df_sum2['Product'] == 'UNIFORM')]['Sales']"
   ]
  },
  {
   "cell_type": "code",
   "execution_count": null,
   "id": "classified-poster",
   "metadata": {},
   "outputs": [],
   "source": []
  }
 ],
 "metadata": {
  "kernelspec": {
   "display_name": "Python 3",
   "language": "python",
   "name": "python3"
  },
  "language_info": {
   "codemirror_mode": {
    "name": "ipython",
    "version": 3
   },
   "file_extension": ".py",
   "mimetype": "text/x-python",
   "name": "python",
   "nbconvert_exporter": "python",
   "pygments_lexer": "ipython3",
   "version": "3.8.8"
  }
 },
 "nbformat": 4,
 "nbformat_minor": 5
}
