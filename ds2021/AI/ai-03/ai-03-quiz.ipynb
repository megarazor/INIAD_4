{
 "cells": [
  {
   "cell_type": "code",
   "execution_count": 1,
   "id": "duplicate-blowing",
   "metadata": {},
   "outputs": [],
   "source": [
    "import numpy as np\n",
    "import pandas as pd"
   ]
  },
  {
   "cell_type": "code",
   "execution_count": 3,
   "id": "composite-literature",
   "metadata": {},
   "outputs": [
    {
     "name": "stdout",
     "output_type": "stream",
     "text": [
      "(60, 3)\n",
      "Team     object\n",
      "Pref     object\n",
      "Time    float64\n",
      "dtype: object\n"
     ]
    },
    {
     "data": {
      "text/html": [
       "<div>\n",
       "<style scoped>\n",
       "    .dataframe tbody tr th:only-of-type {\n",
       "        vertical-align: middle;\n",
       "    }\n",
       "\n",
       "    .dataframe tbody tr th {\n",
       "        vertical-align: top;\n",
       "    }\n",
       "\n",
       "    .dataframe thead th {\n",
       "        text-align: right;\n",
       "    }\n",
       "</style>\n",
       "<table border=\"1\" class=\"dataframe\">\n",
       "  <thead>\n",
       "    <tr style=\"text-align: right;\">\n",
       "      <th></th>\n",
       "      <th>Team</th>\n",
       "      <th>Pref</th>\n",
       "      <th>Time</th>\n",
       "    </tr>\n",
       "  </thead>\n",
       "  <tbody>\n",
       "    <tr>\n",
       "      <th>0</th>\n",
       "      <td>A</td>\n",
       "      <td>Saitama</td>\n",
       "      <td>176.2</td>\n",
       "    </tr>\n",
       "    <tr>\n",
       "      <th>1</th>\n",
       "      <td>A</td>\n",
       "      <td>Saitama</td>\n",
       "      <td>179.1</td>\n",
       "    </tr>\n",
       "    <tr>\n",
       "      <th>2</th>\n",
       "      <td>C</td>\n",
       "      <td>Chiba</td>\n",
       "      <td>180.0</td>\n",
       "    </tr>\n",
       "    <tr>\n",
       "      <th>3</th>\n",
       "      <td>A</td>\n",
       "      <td>Tokyo</td>\n",
       "      <td>176.5</td>\n",
       "    </tr>\n",
       "    <tr>\n",
       "      <th>4</th>\n",
       "      <td>A</td>\n",
       "      <td>Tokyo</td>\n",
       "      <td>179.7</td>\n",
       "    </tr>\n",
       "  </tbody>\n",
       "</table>\n",
       "</div>"
      ],
      "text/plain": [
       "  Team     Pref   Time\n",
       "0    A  Saitama  176.2\n",
       "1    A  Saitama  179.1\n",
       "2    C    Chiba  180.0\n",
       "3    A    Tokyo  176.5\n",
       "4    A    Tokyo  179.7"
      ]
     },
     "metadata": {},
     "output_type": "display_data"
    }
   ],
   "source": [
    "df = pd.read_csv('ai-03-quiz.csv',\n",
    "                 delimiter=',', skiprows=1, header=0)\n",
    "print(df.shape)\n",
    "print(df.dtypes)\n",
    "display(df.head())"
   ]
  },
  {
   "cell_type": "code",
   "execution_count": 4,
   "id": "surgical-newman",
   "metadata": {},
   "outputs": [
    {
     "name": "stdout",
     "output_type": "stream",
     "text": [
      "Number of players: 60\n"
     ]
    }
   ],
   "source": [
    "print(\"Number of players:\", df.shape[0])"
   ]
  },
  {
   "cell_type": "code",
   "execution_count": 6,
   "id": "choice-medicare",
   "metadata": {},
   "outputs": [
    {
     "name": "stdout",
     "output_type": "stream",
     "text": [
      "Tokyo       19\n",
      "Saitama     15\n",
      "Kanagawa    14\n",
      "Chiba       12\n",
      "Name: Pref, dtype: int64\n"
     ]
    }
   ],
   "source": [
    "print(df['Pref'].value_counts())"
   ]
  },
  {
   "cell_type": "code",
   "execution_count": 7,
   "id": "english-necessity",
   "metadata": {},
   "outputs": [
    {
     "name": "stdout",
     "output_type": "stream",
     "text": [
      "179.94333333333333\n"
     ]
    }
   ],
   "source": [
    "print(df['Time'].mean())"
   ]
  },
  {
   "cell_type": "code",
   "execution_count": 9,
   "id": "straight-audio",
   "metadata": {},
   "outputs": [
    {
     "data": {
      "text/html": [
       "<div>\n",
       "<style scoped>\n",
       "    .dataframe tbody tr th:only-of-type {\n",
       "        vertical-align: middle;\n",
       "    }\n",
       "\n",
       "    .dataframe tbody tr th {\n",
       "        vertical-align: top;\n",
       "    }\n",
       "\n",
       "    .dataframe thead th {\n",
       "        text-align: right;\n",
       "    }\n",
       "</style>\n",
       "<table border=\"1\" class=\"dataframe\">\n",
       "  <thead>\n",
       "    <tr style=\"text-align: right;\">\n",
       "      <th>Pref</th>\n",
       "      <th>Chiba</th>\n",
       "      <th>Kanagawa</th>\n",
       "      <th>Saitama</th>\n",
       "      <th>Tokyo</th>\n",
       "    </tr>\n",
       "    <tr>\n",
       "      <th>Team</th>\n",
       "      <th></th>\n",
       "      <th></th>\n",
       "      <th></th>\n",
       "      <th></th>\n",
       "    </tr>\n",
       "  </thead>\n",
       "  <tbody>\n",
       "    <tr>\n",
       "      <th>A</th>\n",
       "      <td>180.875</td>\n",
       "      <td>179.600000</td>\n",
       "      <td>178.500000</td>\n",
       "      <td>179.583333</td>\n",
       "    </tr>\n",
       "    <tr>\n",
       "      <th>B</th>\n",
       "      <td>180.900</td>\n",
       "      <td>178.757143</td>\n",
       "      <td>179.571429</td>\n",
       "      <td>181.525000</td>\n",
       "    </tr>\n",
       "    <tr>\n",
       "      <th>C</th>\n",
       "      <td>182.140</td>\n",
       "      <td>180.366667</td>\n",
       "      <td>180.250000</td>\n",
       "      <td>179.766667</td>\n",
       "    </tr>\n",
       "  </tbody>\n",
       "</table>\n",
       "</div>"
      ],
      "text/plain": [
       "Pref    Chiba    Kanagawa     Saitama       Tokyo\n",
       "Team                                             \n",
       "A     180.875  179.600000  178.500000  179.583333\n",
       "B     180.900  178.757143  179.571429  181.525000\n",
       "C     182.140  180.366667  180.250000  179.766667"
      ]
     },
     "metadata": {},
     "output_type": "display_data"
    },
    {
     "name": "stdout",
     "output_type": "stream",
     "text": [
      "178.7571428571429\n"
     ]
    }
   ],
   "source": [
    "df_pref_team = df.pivot_table('Time', index='Team', columns='Pref',\n",
    "                                 aggfunc=np.average)\n",
    "display(df_pref_team)\n",
    "print(df_pref_team.at['B', 'Kanagawa'])"
   ]
  },
  {
   "cell_type": "code",
   "execution_count": null,
   "id": "grateful-violence",
   "metadata": {},
   "outputs": [],
   "source": []
  }
 ],
 "metadata": {
  "kernelspec": {
   "display_name": "Python 3",
   "language": "python",
   "name": "python3"
  },
  "language_info": {
   "codemirror_mode": {
    "name": "ipython",
    "version": 3
   },
   "file_extension": ".py",
   "mimetype": "text/x-python",
   "name": "python",
   "nbconvert_exporter": "python",
   "pygments_lexer": "ipython3",
   "version": "3.8.8"
  }
 },
 "nbformat": 4,
 "nbformat_minor": 5
}
