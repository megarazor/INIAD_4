{
 "cells": [
  {
   "cell_type": "code",
   "execution_count": 7,
   "id": "first-immunology",
   "metadata": {},
   "outputs": [],
   "source": [
    "import numpy as np\n",
    "import pandas as pd\n",
    "import statsmodels.api as sm\n",
    "from sklearn.model_selection import KFold\n",
    "from sklearn.metrics import mean_squared_error, mean_absolute_error\n",
    "import matplotlib.pyplot as plt"
   ]
  },
  {
   "cell_type": "code",
   "execution_count": 8,
   "id": "opponent-toilet",
   "metadata": {},
   "outputs": [
    {
     "name": "stdout",
     "output_type": "stream",
     "text": [
      "(100, 51)\n"
     ]
    },
    {
     "data": {
      "text/html": [
       "<div>\n",
       "<style scoped>\n",
       "    .dataframe tbody tr th:only-of-type {\n",
       "        vertical-align: middle;\n",
       "    }\n",
       "\n",
       "    .dataframe tbody tr th {\n",
       "        vertical-align: top;\n",
       "    }\n",
       "\n",
       "    .dataframe thead th {\n",
       "        text-align: right;\n",
       "    }\n",
       "</style>\n",
       "<table border=\"1\" class=\"dataframe\">\n",
       "  <thead>\n",
       "    <tr style=\"text-align: right;\">\n",
       "      <th></th>\n",
       "      <th>x0</th>\n",
       "      <th>x1</th>\n",
       "      <th>x2</th>\n",
       "      <th>x3</th>\n",
       "      <th>x4</th>\n",
       "      <th>x5</th>\n",
       "      <th>x6</th>\n",
       "      <th>x7</th>\n",
       "      <th>x8</th>\n",
       "      <th>x9</th>\n",
       "      <th>...</th>\n",
       "      <th>x41</th>\n",
       "      <th>x42</th>\n",
       "      <th>x43</th>\n",
       "      <th>x44</th>\n",
       "      <th>x45</th>\n",
       "      <th>x46</th>\n",
       "      <th>x47</th>\n",
       "      <th>x48</th>\n",
       "      <th>x49</th>\n",
       "      <th>y</th>\n",
       "    </tr>\n",
       "  </thead>\n",
       "  <tbody>\n",
       "    <tr>\n",
       "      <th>0</th>\n",
       "      <td>0.4</td>\n",
       "      <td>-0.3</td>\n",
       "      <td>2.4</td>\n",
       "      <td>-0.3</td>\n",
       "      <td>0.1</td>\n",
       "      <td>1.6</td>\n",
       "      <td>-0.9</td>\n",
       "      <td>-0.6</td>\n",
       "      <td>0.2</td>\n",
       "      <td>-0.3</td>\n",
       "      <td>...</td>\n",
       "      <td>1.1</td>\n",
       "      <td>-0.4</td>\n",
       "      <td>-0.8</td>\n",
       "      <td>0.3</td>\n",
       "      <td>2.0</td>\n",
       "      <td>-0.5</td>\n",
       "      <td>-1.3</td>\n",
       "      <td>0.1</td>\n",
       "      <td>0.5</td>\n",
       "      <td>1.4</td>\n",
       "    </tr>\n",
       "    <tr>\n",
       "      <th>1</th>\n",
       "      <td>0.7</td>\n",
       "      <td>0.1</td>\n",
       "      <td>-0.4</td>\n",
       "      <td>0.0</td>\n",
       "      <td>-0.1</td>\n",
       "      <td>0.8</td>\n",
       "      <td>-0.6</td>\n",
       "      <td>-0.0</td>\n",
       "      <td>-0.1</td>\n",
       "      <td>-0.1</td>\n",
       "      <td>...</td>\n",
       "      <td>0.2</td>\n",
       "      <td>-0.1</td>\n",
       "      <td>-1.1</td>\n",
       "      <td>-0.1</td>\n",
       "      <td>-1.3</td>\n",
       "      <td>0.7</td>\n",
       "      <td>0.1</td>\n",
       "      <td>0.6</td>\n",
       "      <td>1.0</td>\n",
       "      <td>15.2</td>\n",
       "    </tr>\n",
       "    <tr>\n",
       "      <th>2</th>\n",
       "      <td>1.4</td>\n",
       "      <td>0.2</td>\n",
       "      <td>-1.3</td>\n",
       "      <td>-0.7</td>\n",
       "      <td>-0.6</td>\n",
       "      <td>1.2</td>\n",
       "      <td>-0.1</td>\n",
       "      <td>2.3</td>\n",
       "      <td>0.7</td>\n",
       "      <td>0.1</td>\n",
       "      <td>...</td>\n",
       "      <td>1.2</td>\n",
       "      <td>-1.3</td>\n",
       "      <td>0.8</td>\n",
       "      <td>0.2</td>\n",
       "      <td>0.1</td>\n",
       "      <td>0.5</td>\n",
       "      <td>-0.6</td>\n",
       "      <td>0.8</td>\n",
       "      <td>0.1</td>\n",
       "      <td>10.4</td>\n",
       "    </tr>\n",
       "    <tr>\n",
       "      <th>3</th>\n",
       "      <td>-1.4</td>\n",
       "      <td>0.9</td>\n",
       "      <td>-0.2</td>\n",
       "      <td>-0.6</td>\n",
       "      <td>-0.2</td>\n",
       "      <td>2.1</td>\n",
       "      <td>0.3</td>\n",
       "      <td>0.7</td>\n",
       "      <td>0.8</td>\n",
       "      <td>1.0</td>\n",
       "      <td>...</td>\n",
       "      <td>-0.7</td>\n",
       "      <td>0.2</td>\n",
       "      <td>-0.3</td>\n",
       "      <td>-0.5</td>\n",
       "      <td>-0.1</td>\n",
       "      <td>1.8</td>\n",
       "      <td>-0.8</td>\n",
       "      <td>-0.3</td>\n",
       "      <td>1.4</td>\n",
       "      <td>1.6</td>\n",
       "    </tr>\n",
       "    <tr>\n",
       "      <th>4</th>\n",
       "      <td>0.8</td>\n",
       "      <td>0.2</td>\n",
       "      <td>-1.8</td>\n",
       "      <td>0.6</td>\n",
       "      <td>0.5</td>\n",
       "      <td>1.0</td>\n",
       "      <td>-0.8</td>\n",
       "      <td>2.5</td>\n",
       "      <td>-1.2</td>\n",
       "      <td>0.7</td>\n",
       "      <td>...</td>\n",
       "      <td>0.5</td>\n",
       "      <td>-1.0</td>\n",
       "      <td>0.6</td>\n",
       "      <td>-1.7</td>\n",
       "      <td>-0.8</td>\n",
       "      <td>-0.9</td>\n",
       "      <td>0.5</td>\n",
       "      <td>0.7</td>\n",
       "      <td>-1.3</td>\n",
       "      <td>-8.5</td>\n",
       "    </tr>\n",
       "  </tbody>\n",
       "</table>\n",
       "<p>5 rows × 51 columns</p>\n",
       "</div>"
      ],
      "text/plain": [
       "    x0   x1   x2   x3   x4   x5   x6   x7   x8   x9  ...  x41  x42  x43  x44  \\\n",
       "0  0.4 -0.3  2.4 -0.3  0.1  1.6 -0.9 -0.6  0.2 -0.3  ...  1.1 -0.4 -0.8  0.3   \n",
       "1  0.7  0.1 -0.4  0.0 -0.1  0.8 -0.6 -0.0 -0.1 -0.1  ...  0.2 -0.1 -1.1 -0.1   \n",
       "2  1.4  0.2 -1.3 -0.7 -0.6  1.2 -0.1  2.3  0.7  0.1  ...  1.2 -1.3  0.8  0.2   \n",
       "3 -1.4  0.9 -0.2 -0.6 -0.2  2.1  0.3  0.7  0.8  1.0  ... -0.7  0.2 -0.3 -0.5   \n",
       "4  0.8  0.2 -1.8  0.6  0.5  1.0 -0.8  2.5 -1.2  0.7  ...  0.5 -1.0  0.6 -1.7   \n",
       "\n",
       "   x45  x46  x47  x48  x49     y  \n",
       "0  2.0 -0.5 -1.3  0.1  0.5   1.4  \n",
       "1 -1.3  0.7  0.1  0.6  1.0  15.2  \n",
       "2  0.1  0.5 -0.6  0.8  0.1  10.4  \n",
       "3 -0.1  1.8 -0.8 -0.3  1.4   1.6  \n",
       "4 -0.8 -0.9  0.5  0.7 -1.3  -8.5  \n",
       "\n",
       "[5 rows x 51 columns]"
      ]
     },
     "metadata": {},
     "output_type": "display_data"
    }
   ],
   "source": [
    "csv_in = 'reg100x50.csv'\n",
    "df = pd.read_csv(csv_in, delimiter=',', skiprows=0, header=0)\n",
    "print(df.shape)\n",
    "display(df.head())"
   ]
  },
  {
   "cell_type": "code",
   "execution_count": 9,
   "id": "completed-perspective",
   "metadata": {},
   "outputs": [
    {
     "name": "stdout",
     "output_type": "stream",
     "text": [
      "(100, 25) (100,)\n"
     ]
    }
   ],
   "source": [
    "Xh = df.loc[:, 'x25':'x49']  # explanatory variables\n",
    "yh = df['y']  # objective variable\n",
    "print(Xh.shape, yh.shape)"
   ]
  },
  {
   "cell_type": "code",
   "execution_count": 10,
   "id": "yellow-trader",
   "metadata": {},
   "outputs": [
    {
     "name": "stdout",
     "output_type": "stream",
     "text": [
      "(80,) (20,)\n",
      "(80,) (20,)\n",
      "(80,) (20,)\n",
      "(80,) (20,)\n",
      "(80,) (20,)\n"
     ]
    }
   ],
   "source": [
    "skf = KFold(n_splits=5, shuffle=True, random_state=7)\n",
    "mse_all = []\n",
    "pred_all = pd.Series([],dtype='float')\n",
    "true_all = pd.Series([],dtype='float')\n",
    "for train, test in skf.split(Xh, yh):\n",
    "    print(train.shape, test.shape)  # debug\n",
    "    Xh_train_c = sm.add_constant(Xh.loc[train])\n",
    "    model = sm.OLS(yh[train], Xh_train_c)\n",
    "    results = model.fit()\n",
    "    Xh_test_c = sm.add_constant(Xh.loc[test])\n",
    "    yh_test_pred = results.predict(Xh_test_c)\n",
    "    mse = mean_squared_error(yh_test_pred,yh[test])\n",
    "    mse_all.append(mse)\n",
    "    pred_all = pd.concat([pred_all,yh_test_pred])\n",
    "    true_all = pd.concat([true_all,yh[test]])"
   ]
  },
  {
   "cell_type": "code",
   "execution_count": 11,
   "id": "stylish-birmingham",
   "metadata": {},
   "outputs": [
    {
     "data": {
      "image/png": "[encoded data removed]",
      "text/plain": [
       "<Figure size 432x288 with 1 Axes>"
      ]
     },
     "metadata": {
      "needs_background": "light"
     },
     "output_type": "display_data"
    }
   ],
   "source": [
    "plt.title('Test by 5-fold CV (25 variables)')\n",
    "plt.xlabel('Pred')\n",
    "plt.ylabel('True')\n",
    "plt.scatter(pred_all, true_all)\n",
    "plt.xlim(-25,25)\n",
    "plt.ylim(-25,25)\n",
    "plt.plot([-25,25],[-25,25])\n",
    "plt.gca().set_aspect('equal', adjustable='box')\n",
    "plt.show()"
   ]
  },
  {
   "cell_type": "code",
   "execution_count": 13,
   "id": "juvenile-candle",
   "metadata": {},
   "outputs": [
    {
     "name": "stdout",
     "output_type": "stream",
     "text": [
      "3.747244888575132\n"
     ]
    }
   ],
   "source": [
    "print(mean_absolute_error(yh[test], yh_test_pred))"
   ]
  },
  {
   "cell_type": "code",
   "execution_count": null,
   "id": "separate-edition",
   "metadata": {},
   "outputs": [],
   "source": []
  }
 ],
 "metadata": {
  "kernelspec": {
   "display_name": "Python 3",
   "language": "python",
   "name": "python3"
  },
  "language_info": {
   "codemirror_mode": {
    "name": "ipython",
    "version": 3
   },
   "file_extension": ".py",
   "mimetype": "text/x-python",
   "name": "python",
   "nbconvert_exporter": "python",
   "pygments_lexer": "ipython3",
   "version": "3.8.8"
  }
 },
 "nbformat": 4,
 "nbformat_minor": 5
}
