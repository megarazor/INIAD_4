{
 "cells": [
  {
   "cell_type": "code",
   "execution_count": 12,
   "id": "figured-savannah",
   "metadata": {},
   "outputs": [],
   "source": [
    "import pandas as pd\n",
    "import numpy as np\n",
    "import matplotlib.pyplot as plt\n",
    "\n",
    "from sklearn.metrics import roc_curve, auc, roc_auc_score\n",
    "from sklearn.metrics import precision_score, recall_score, accuracy_score"
   ]
  },
  {
   "cell_type": "code",
   "execution_count": 13,
   "id": "brave-creek",
   "metadata": {},
   "outputs": [],
   "source": [
    "csv_in = 'ai-end2-1.csv'"
   ]
  },
  {
   "cell_type": "code",
   "execution_count": 14,
   "id": "indonesian-highlight",
   "metadata": {},
   "outputs": [
    {
     "name": "stdout",
     "output_type": "stream",
     "text": [
      "(107, 4)\n",
      "<class 'pandas.core.frame.DataFrame'>\n",
      "RangeIndex: 107 entries, 0 to 106\n",
      "Data columns (total 4 columns):\n",
      " #   Column  Non-Null Count  Dtype  \n",
      "---  ------  --------------  -----  \n",
      " 0   label   107 non-null    float64\n",
      " 1   A       107 non-null    float64\n",
      " 2   B       107 non-null    float64\n",
      " 3   C       107 non-null    float64\n",
      "dtypes: float64(4)\n",
      "memory usage: 3.5 KB\n",
      "None\n"
     ]
    },
    {
     "data": {
      "text/html": [
       "<div>\n",
       "<style scoped>\n",
       "    .dataframe tbody tr th:only-of-type {\n",
       "        vertical-align: middle;\n",
       "    }\n",
       "\n",
       "    .dataframe tbody tr th {\n",
       "        vertical-align: top;\n",
       "    }\n",
       "\n",
       "    .dataframe thead th {\n",
       "        text-align: right;\n",
       "    }\n",
       "</style>\n",
       "<table border=\"1\" class=\"dataframe\">\n",
       "  <thead>\n",
       "    <tr style=\"text-align: right;\">\n",
       "      <th></th>\n",
       "      <th>label</th>\n",
       "      <th>A</th>\n",
       "      <th>B</th>\n",
       "      <th>C</th>\n",
       "    </tr>\n",
       "  </thead>\n",
       "  <tbody>\n",
       "    <tr>\n",
       "      <th>0</th>\n",
       "      <td>1.0</td>\n",
       "      <td>0.288374</td>\n",
       "      <td>0.957809</td>\n",
       "      <td>0.643425</td>\n",
       "    </tr>\n",
       "    <tr>\n",
       "      <th>1</th>\n",
       "      <td>1.0</td>\n",
       "      <td>0.954157</td>\n",
       "      <td>0.861865</td>\n",
       "      <td>0.801566</td>\n",
       "    </tr>\n",
       "    <tr>\n",
       "      <th>2</th>\n",
       "      <td>1.0</td>\n",
       "      <td>0.605162</td>\n",
       "      <td>0.818588</td>\n",
       "      <td>0.871809</td>\n",
       "    </tr>\n",
       "    <tr>\n",
       "      <th>3</th>\n",
       "      <td>0.0</td>\n",
       "      <td>0.369670</td>\n",
       "      <td>0.090991</td>\n",
       "      <td>0.285757</td>\n",
       "    </tr>\n",
       "    <tr>\n",
       "      <th>4</th>\n",
       "      <td>0.0</td>\n",
       "      <td>0.951802</td>\n",
       "      <td>0.080485</td>\n",
       "      <td>0.634434</td>\n",
       "    </tr>\n",
       "  </tbody>\n",
       "</table>\n",
       "</div>"
      ],
      "text/plain": [
       "   label         A         B         C\n",
       "0    1.0  0.288374  0.957809  0.643425\n",
       "1    1.0  0.954157  0.861865  0.801566\n",
       "2    1.0  0.605162  0.818588  0.871809\n",
       "3    0.0  0.369670  0.090991  0.285757\n",
       "4    0.0  0.951802  0.080485  0.634434"
      ]
     },
     "metadata": {},
     "output_type": "display_data"
    }
   ],
   "source": [
    "df = pd.read_csv(csv_in, delimiter=',', header=0)\n",
    "print(df.shape)\n",
    "print(df.info())\n",
    "display(df.head())"
   ]
  },
  {
   "cell_type": "code",
   "execution_count": 15,
   "id": "friendly-congress",
   "metadata": {},
   "outputs": [
    {
     "name": "stdout",
     "output_type": "stream",
     "text": [
      "A\n",
      "precision: 0.6506024096385542\n",
      "recall: 0.8571428571428571\n",
      "accuracy(Q2): 0.6448598130841121\n",
      "false positive rate: 0.6590909090909091\n"
     ]
    },
    {
     "data": {
      "text/html": [
       "<div>\n",
       "<style scoped>\n",
       "    .dataframe tbody tr th:only-of-type {\n",
       "        vertical-align: middle;\n",
       "    }\n",
       "\n",
       "    .dataframe tbody tr th {\n",
       "        vertical-align: top;\n",
       "    }\n",
       "\n",
       "    .dataframe thead th {\n",
       "        text-align: right;\n",
       "    }\n",
       "</style>\n",
       "<table border=\"1\" class=\"dataframe\">\n",
       "  <thead>\n",
       "    <tr style=\"text-align: right;\">\n",
       "      <th>A</th>\n",
       "      <th>0</th>\n",
       "      <th>1</th>\n",
       "    </tr>\n",
       "    <tr>\n",
       "      <th>label</th>\n",
       "      <th></th>\n",
       "      <th></th>\n",
       "    </tr>\n",
       "  </thead>\n",
       "  <tbody>\n",
       "    <tr>\n",
       "      <th>0.0</th>\n",
       "      <td>15</td>\n",
       "      <td>29</td>\n",
       "    </tr>\n",
       "    <tr>\n",
       "      <th>1.0</th>\n",
       "      <td>9</td>\n",
       "      <td>54</td>\n",
       "    </tr>\n",
       "  </tbody>\n",
       "</table>\n",
       "</div>"
      ],
      "text/plain": [
       "A       0   1\n",
       "label        \n",
       "0.0    15  29\n",
       "1.0     9  54"
      ]
     },
     "metadata": {},
     "output_type": "display_data"
    }
   ],
   "source": [
    "print('A')\n",
    "print('precision:', precision_score(df['label'], df['A']>=0.4))\n",
    "print('recall:', recall_score(df['label'], df['A']>=0.4))\n",
    "print('accuracy(Q2):', accuracy_score(df['label'], df['A']>=0.4))\n",
    "#predA = (df['A']>=0.4).astype('int')\n",
    "predA = df['A'].map(lambda x: 1 if x >= 0.4 else 0)\n",
    "ctA = pd.crosstab(df['label'], predA)\n",
    "fpA = ctA.loc[0,1]\n",
    "tnA = ctA.loc[0,0]\n",
    "print('false positive rate:', fpA/(fpA+tnA))\n",
    "display(ctA)"
   ]
  },
  {
   "cell_type": "code",
   "execution_count": 16,
   "id": "related-australia",
   "metadata": {},
   "outputs": [
    {
     "name": "stdout",
     "output_type": "stream",
     "text": [
      "B\n",
      "precision: 0.7887323943661971\n",
      "recall: 0.8888888888888888\n",
      "accuracy(Q2): 0.794392523364486\n",
      "false positive rate: 0.3409090909090909\n",
      "specificity: 0.6590909090909091\n"
     ]
    },
    {
     "data": {
      "text/html": [
       "<div>\n",
       "<style scoped>\n",
       "    .dataframe tbody tr th:only-of-type {\n",
       "        vertical-align: middle;\n",
       "    }\n",
       "\n",
       "    .dataframe tbody tr th {\n",
       "        vertical-align: top;\n",
       "    }\n",
       "\n",
       "    .dataframe thead th {\n",
       "        text-align: right;\n",
       "    }\n",
       "</style>\n",
       "<table border=\"1\" class=\"dataframe\">\n",
       "  <thead>\n",
       "    <tr style=\"text-align: right;\">\n",
       "      <th>B</th>\n",
       "      <th>0</th>\n",
       "      <th>1</th>\n",
       "    </tr>\n",
       "    <tr>\n",
       "      <th>label</th>\n",
       "      <th></th>\n",
       "      <th></th>\n",
       "    </tr>\n",
       "  </thead>\n",
       "  <tbody>\n",
       "    <tr>\n",
       "      <th>0.0</th>\n",
       "      <td>29</td>\n",
       "      <td>15</td>\n",
       "    </tr>\n",
       "    <tr>\n",
       "      <th>1.0</th>\n",
       "      <td>7</td>\n",
       "      <td>56</td>\n",
       "    </tr>\n",
       "  </tbody>\n",
       "</table>\n",
       "</div>"
      ],
      "text/plain": [
       "B       0   1\n",
       "label        \n",
       "0.0    29  15\n",
       "1.0     7  56"
      ]
     },
     "metadata": {},
     "output_type": "display_data"
    }
   ],
   "source": [
    "print('B')\n",
    "print('precision:', precision_score(df['label'], df['B']>=0.5))\n",
    "print('recall:', recall_score(df['label'], df['B']>=0.5))\n",
    "print('accuracy(Q2):', accuracy_score(df['label'], df['B']>=0.5))\n",
    "#predB = (df['B']>=0.5).astype('int')\n",
    "predB = df['B'].map(lambda x: 1 if x >= 0.5 else 0)\n",
    "ctB = pd.crosstab(df['label'], predB)\n",
    "fpB = ctB.loc[0,1]\n",
    "tnB = ctB.loc[0,0]\n",
    "print('false positive rate:', fpB/(fpB+tnB))\n",
    "print('specificity:', tnB/(fpB+tnB))\n",
    "display(ctB)"
   ]
  },
  {
   "cell_type": "code",
   "execution_count": 17,
   "id": "separated-donor",
   "metadata": {},
   "outputs": [
    {
     "name": "stdout",
     "output_type": "stream",
     "text": [
      "AUC(A): 0.7316017316017315\n",
      "AUC(B): 0.8993506493506493\n",
      "AUC(C): 0.9448051948051949\n"
     ]
    }
   ],
   "source": [
    "y_true = df['label']\n",
    "y_score = df['A']\n",
    "fprA, tprA, thresholdsA = roc_curve(y_true, y_score)\n",
    "print('AUC(A):', roc_auc_score(y_true, y_score))\n",
    "#print('AUC(A):', auc(fprA, tprA))  # from fpr and tpr\n",
    "y_score = df['B']\n",
    "fprB, tprB, thresholdsB = roc_curve(y_true, y_score)\n",
    "print('AUC(B):', roc_auc_score(y_true, y_score))\n",
    "#print('AUC(B):', auc(fprB, tprB))  # from fpr and tpr\n",
    "y_score = df['C']\n",
    "fprC, tprC, thresholdsC = roc_curve(y_true, y_score)\n",
    "print('AUC(C):', roc_auc_score(y_true, y_score))\n",
    "#print('AUC(C):', auc(fprC, tprC)) # from fpr and tpr"
   ]
  },
  {
   "cell_type": "code",
   "execution_count": 18,
   "id": "initial-insulation",
   "metadata": {},
   "outputs": [
    {
     "data": {
      "image/png": "[encoded data removed]",
      "text/plain": [
       "<Figure size 432x288 with 1 Axes>"
      ]
     },
     "metadata": {
      "needs_background": "light"
     },
     "output_type": "display_data"
    }
   ],
   "source": [
    "plt.plot(fprA, tprA, label='A')\n",
    "plt.plot(fprB, tprB, label='B')\n",
    "plt.plot(fprC, tprC, label='C')\n",
    "plt.plot([0,1],[0,1])\n",
    "plt.gca().set_aspect('equal', adjustable='box')\n",
    "plt.title('ROC curve')\n",
    "plt.xlabel('False positive rate')\n",
    "plt.ylabel('True positive rate')\n",
    "plt.xlim(-0.1,1.1)\n",
    "plt.ylim(-0.1,1.1)\n",
    "plt.legend()\n",
    "plt.show()"
   ]
  },
  {
   "cell_type": "code",
   "execution_count": null,
   "id": "portable-lebanon",
   "metadata": {},
   "outputs": [],
   "source": []
  }
 ],
 "metadata": {
  "kernelspec": {
   "display_name": "Python 3",
   "language": "python",
   "name": "python3"
  },
  "language_info": {
   "codemirror_mode": {
    "name": "ipython",
    "version": 3
   },
   "file_extension": ".py",
   "mimetype": "text/x-python",
   "name": "python",
   "nbconvert_exporter": "python",
   "pygments_lexer": "ipython3",
   "version": "3.8.8"
  }
 },
 "nbformat": 4,
 "nbformat_minor": 5
}
